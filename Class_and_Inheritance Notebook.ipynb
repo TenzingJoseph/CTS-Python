{
  "nbformat": 4,
  "nbformat_minor": 0,
  "metadata": {
    "colab": {
      "provenance": [],
      "authorship_tag": "ABX9TyPkpjbegqhKIcPi+MDPbMKj",
      "include_colab_link": true
    },
    "kernelspec": {
      "name": "python3",
      "display_name": "Python 3"
    },
    "language_info": {
      "name": "python"
    }
  },
  "cells": [
    {
      "cell_type": "markdown",
      "metadata": {
        "id": "view-in-github",
        "colab_type": "text"
      },
      "source": [
        "<a href=\"https://colab.research.google.com/github/TenzingJoseph/CTS-Python/blob/main/Class_and_Inheritance%20Notebook.ipynb\" target=\"_parent\"><img src=\"https://colab.research.google.com/assets/colab-badge.svg\" alt=\"Open In Colab\"/></a>"
      ]
    },
    {
      "cell_type": "code",
      "execution_count": 2,
      "metadata": {
        "id": "agkAKfpQ0WDf"
      },
      "outputs": [],
      "source": [
        "class cognizant:  #parent class\n",
        "    def __init__(self,name,id_no,doj):\n",
        "        self.name  = name\n",
        "        self.id_no = id_no\n",
        "        self.doj   = doj\n",
        "        \n",
        "    def get_info(self):\n",
        "        print('Name of the employee:', self.name)\n",
        "        print('Employee ID         :', self.id_no)\n",
        "        print('Date of joining     :', self.doj)\n",
        "        \n",
        "    def experience(self):\n",
        "        import datetime\n",
        "        from dateutil import relativedelta\n",
        "        a = datetime.datetime.strptime(self.doj,\"%d/%m/%Y\").date()\n",
        "        b = datetime.date.today()\n",
        "        c = relativedelta.relativedelta(b,a)\n",
        "        print('The years of experience is {} year {} months {} day.'.format(c.years,c.months,c.days))\n",
        "\n",
        "class domain(cognizant): #child class1\n",
        "    def __init__(self,name,id_no,doj,emp_dom):\n",
        "        cognizant.__init__(self,name,id_no,doj)\n",
        "        self.emp_dom = emp_dom.upper()\n",
        "        if self.emp_dom == 'DATA':\n",
        "            self.poc1,self.mentor1,self.trainer1 = 'Shruthi','Mrityunjoy','Shantanu'\n",
        "        elif self.emp_dom == 'AI':\n",
        "            self.poc1,self.mentor1,self.trainer1 = 'Aathira','Anil','Parthi'\n",
        "            \n",
        "    def poc(self):\n",
        "        print(\"The primary POC is {}.\".format(self.poc1))\n",
        "            \n",
        "    def mentor(self):\n",
        "        print('The primary mentor is {}.'.format(self.mentor1))\n",
        "            \n",
        "    def trainer(self):\n",
        "        print('The primary trainer is {}.'.format(self.trainer1))\n",
        "        \n",
        "class project(cognizant):\n",
        "    def __init__(self,name,id_no,doj,p_name,p_code):\n",
        "        cognizant.__init__(self,name,id_no,doj)\n",
        "        self.p_name = p_name\n",
        "        self.p_code = p_code\n",
        "    \n",
        "    def project_name(self):\n",
        "        print('Project Name :', self.p_name)\n",
        "        print('Project code :', self.p_code)\n",
        "    \n",
        "    def manager(self):\n",
        "        print(\"Project Manager: Dinesh Ethiraj\")\n",
        "    \n",
        "    def location(self):\n",
        "        print('Project Location: Chennai')\n",
        "        \n",
        "class technology(cognizant):\n",
        "    def __init__(self,name,id_no,doj,tool):\n",
        "        cognizant.__init__(self,name,id_no,doj)\n",
        "        self.tool = tool.upper()\n",
        "        if self.tool == 'PYTHON':\n",
        "            self.tool1 = 'Anaconda, Pyspark, Hadoop, VisualCode.'\n",
        "        elif self.tool == 'CLOUD':\n",
        "            self.tool1 = 'Azure, AWS, GCP, IBM Watson.'\n",
        "            \n",
        "    def tools(self):\n",
        "        print('The available tools are {}'.format(self.tool1))"
      ]
    },
    {
      "cell_type": "code",
      "source": [
        "cts = cognizant('Tenzing', 2211584, '22/06/2022')\n",
        "cts.get_info()"
      ],
      "metadata": {
        "colab": {
          "base_uri": "https://localhost:8080/"
        },
        "id": "OI6lG2u70gLj",
        "outputId": "697de613-e623-459e-d7ef-3dad00155eef"
      },
      "execution_count": 3,
      "outputs": [
        {
          "output_type": "stream",
          "name": "stdout",
          "text": [
            "Name of the employee: Tenzing\n",
            "Employee ID         : 2211584\n",
            "Date of joining     : 22/06/2022\n"
          ]
        }
      ]
    },
    {
      "cell_type": "code",
      "source": [
        "cts = domain('Tenzing', 2211584, '22/06/2022', 'data')\n",
        "cts.get_info()\n",
        "cts.poc()\n",
        "cts.trainer()"
      ],
      "metadata": {
        "colab": {
          "base_uri": "https://localhost:8080/"
        },
        "id": "I6CVUfES0iK6",
        "outputId": "a5417887-e56d-43ad-98ff-4b2f88c76838"
      },
      "execution_count": 4,
      "outputs": [
        {
          "output_type": "stream",
          "name": "stdout",
          "text": [
            "Name of the employee: Tenzing\n",
            "Employee ID         : 2211584\n",
            "Date of joining     : 22/06/2022\n",
            "The primary POC is Shruthi.\n",
            "The primary trainer is Shantanu.\n"
          ]
        }
      ]
    },
    {
      "cell_type": "code",
      "source": [
        "cts = project('Tenzing', 2211584, '22/06/2022', 'HYD PAT CAT', '2022CDB')\n",
        "cts.get_info()\n",
        "cts.project_name()\n",
        "cts.location()"
      ],
      "metadata": {
        "colab": {
          "base_uri": "https://localhost:8080/"
        },
        "id": "BP3o7wiQ0j4s",
        "outputId": "87fb792f-3402-4e31-e0a4-4dbcb5c2de0a"
      },
      "execution_count": 5,
      "outputs": [
        {
          "output_type": "stream",
          "name": "stdout",
          "text": [
            "Name of the employee: Tenzing\n",
            "Employee ID         : 2211584\n",
            "Date of joining     : 22/06/2022\n",
            "Project Name : HYD PAT CAT\n",
            "Project code : 2022CDB\n",
            "Project Location: Chennai\n"
          ]
        }
      ]
    },
    {
      "cell_type": "code",
      "source": [
        "cts = technology('Tenzing', 2211584, '22/06/2022', 'python')\n",
        "cts.get_info()\n",
        "cts.experience()\n",
        "cts.tools()"
      ],
      "metadata": {
        "colab": {
          "base_uri": "https://localhost:8080/"
        },
        "id": "irBWV5_q0p2k",
        "outputId": "f6be5c2d-c167-4346-8e1b-e18dad01a63d"
      },
      "execution_count": 6,
      "outputs": [
        {
          "output_type": "stream",
          "name": "stdout",
          "text": [
            "Name of the employee: Tenzing\n",
            "Employee ID         : 2211584\n",
            "Date of joining     : 22/06/2022\n",
            "The years of experience is 0 year 3 months 1 day.\n",
            "The available tools are Anaconda, Pyspark, Hadoop, VisualCode.\n"
          ]
        }
      ]
    }
  ]
}