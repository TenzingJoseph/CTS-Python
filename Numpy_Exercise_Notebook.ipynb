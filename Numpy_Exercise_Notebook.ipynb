{
  "nbformat": 4,
  "nbformat_minor": 0,
  "metadata": {
    "colab": {
      "name": "Numpy Exercise Notebook.ipynb",
      "provenance": [],
      "authorship_tag": "ABX9TyMnmo5hv4/VKCpdJm8QUinm",
      "include_colab_link": true
    },
    "kernelspec": {
      "name": "python3",
      "display_name": "Python 3"
    },
    "language_info": {
      "name": "python"
    }
  },
  "cells": [
    {
      "cell_type": "markdown",
      "metadata": {
        "id": "view-in-github",
        "colab_type": "text"
      },
      "source": [
        "<a href=\"https://colab.research.google.com/github/TenzingJoseph/CTS-Python/blob/main/Numpy_Exercise_Notebook.ipynb\" target=\"_parent\"><img src=\"https://colab.research.google.com/assets/colab-badge.svg\" alt=\"Open In Colab\"/></a>"
      ]
    },
    {
      "cell_type": "markdown",
      "source": [
        " Generate a 1D numpy array with the values [7, 9, 65, 33, 85, 99]"
      ],
      "metadata": {
        "id": "IebBYEQTc6a_"
      }
    },
    {
      "cell_type": "code",
      "source": [
        "arr1 = np.array([7,9,65,33,85,99])\n",
        "arr1"
      ],
      "metadata": {
        "colab": {
          "base_uri": "https://localhost:8080/"
        },
        "id": "V-Nbrehuc8C0",
        "outputId": "669b0d3b-4a16-431f-9325-ef25e16dd6fa"
      },
      "execution_count": 13,
      "outputs": [
        {
          "output_type": "execute_result",
          "data": {
            "text/plain": [
              "array([ 7,  9, 65, 33, 85, 99])"
            ]
          },
          "metadata": {},
          "execution_count": 13
        }
      ]
    },
    {
      "cell_type": "markdown",
      "source": [
        "Generate a matrix (2D numpy array) of the values:"
      ],
      "metadata": {
        "id": "iXl2sa0NeCLj"
      }
    },
    {
      "cell_type": "code",
      "source": [
        "arr2 = np.array(((1,2,4),(2,3,0),(0,5,1)))\n",
        "arr2"
      ],
      "metadata": {
        "colab": {
          "base_uri": "https://localhost:8080/"
        },
        "id": "XckR_RTMdTvo",
        "outputId": "03589f09-f3f6-4ff9-e41d-fbed46ec2710"
      },
      "execution_count": 18,
      "outputs": [
        {
          "output_type": "execute_result",
          "data": {
            "text/plain": [
              "array([[1, 2, 4],\n",
              "       [2, 3, 0],\n",
              "       [0, 5, 1]])"
            ]
          },
          "metadata": {},
          "execution_count": 18
        }
      ]
    },
    {
      "cell_type": "markdown",
      "source": [
        "Change the dimensions of this array to another permitted shape"
      ],
      "metadata": {
        "id": "OuoQ4imEeQ5Z"
      }
    },
    {
      "cell_type": "code",
      "source": [
        "arr2.reshape(9,1) # (Or) arr2.reshape(1,9)"
      ],
      "metadata": {
        "colab": {
          "base_uri": "https://localhost:8080/"
        },
        "id": "tKPhT8_2d33V",
        "outputId": "59c66a27-c97f-4e9d-e47a-c45bc8a3d63d"
      },
      "execution_count": 19,
      "outputs": [
        {
          "output_type": "execute_result",
          "data": {
            "text/plain": [
              "array([[1],\n",
              "       [2],\n",
              "       [4],\n",
              "       [2],\n",
              "       [3],\n",
              "       [0],\n",
              "       [0],\n",
              "       [5],\n",
              "       [1]])"
            ]
          },
          "metadata": {},
          "execution_count": 19
        }
      ]
    },
    {
      "cell_type": "markdown",
      "source": [
        "Create an array of string numbers, but use dtype to make it an array of floats."
      ],
      "metadata": {
        "id": "wDS84zfNi5OR"
      }
    },
    {
      "cell_type": "code",
      "source": [
        "arr3 = np.array(('1','2','3','4'), dtype='float32')\n",
        "arr3.dtype"
      ],
      "metadata": {
        "colab": {
          "base_uri": "https://localhost:8080/"
        },
        "id": "_uXF_9NleJU0",
        "outputId": "4b32b5b8-b255-4290-beb5-f3a302a8226e"
      },
      "execution_count": 23,
      "outputs": [
        {
          "output_type": "execute_result",
          "data": {
            "text/plain": [
              "dtype('float32')"
            ]
          },
          "metadata": {},
          "execution_count": 23
        }
      ]
    },
    {
      "cell_type": "markdown",
      "source": [
        "Transpose the matrix, printing the new size and shape."
      ],
      "metadata": {
        "id": "PcTLkFi6jXn-"
      }
    },
    {
      "cell_type": "code",
      "source": [
        "arr4 = np.arange(1,10)\n",
        "arr4 = arr4.reshape(3,3)"
      ],
      "metadata": {
        "id": "jm2ixk9FjF-W"
      },
      "execution_count": 30,
      "outputs": []
    },
    {
      "cell_type": "code",
      "source": [
        "arr4.size"
      ],
      "metadata": {
        "colab": {
          "base_uri": "https://localhost:8080/"
        },
        "id": "kC_fhTm6jhLk",
        "outputId": "37493c0d-0c10-4270-b4b3-c146175e3749"
      },
      "execution_count": 32,
      "outputs": [
        {
          "output_type": "execute_result",
          "data": {
            "text/plain": [
              "9"
            ]
          },
          "metadata": {},
          "execution_count": 32
        }
      ]
    },
    {
      "cell_type": "code",
      "source": [
        "arr4.shape"
      ],
      "metadata": {
        "colab": {
          "base_uri": "https://localhost:8080/"
        },
        "id": "R0S1r_ZLj01y",
        "outputId": "3d4b4fe3-3ab3-4d78-f35a-5c66ee89c0b4"
      },
      "execution_count": 33,
      "outputs": [
        {
          "output_type": "execute_result",
          "data": {
            "text/plain": [
              "(3, 3)"
            ]
          },
          "metadata": {},
          "execution_count": 33
        }
      ]
    },
    {
      "cell_type": "markdown",
      "source": [
        "Use the .astype() method to convert the array to boolean."
      ],
      "metadata": {
        "id": "yGr_6lLjkHUr"
      }
    },
    {
      "cell_type": "code",
      "source": [
        "arr5 = np.eye(5,dtype='int32')\n",
        "arr5"
      ],
      "metadata": {
        "colab": {
          "base_uri": "https://localhost:8080/"
        },
        "id": "Rq4NLjKKkK0h",
        "outputId": "d3645a14-0335-4f9a-b224-39d4bfc6661a"
      },
      "execution_count": 35,
      "outputs": [
        {
          "output_type": "execute_result",
          "data": {
            "text/plain": [
              "array([[1, 0, 0, 0, 0],\n",
              "       [0, 1, 0, 0, 0],\n",
              "       [0, 0, 1, 0, 0],\n",
              "       [0, 0, 0, 1, 0],\n",
              "       [0, 0, 0, 0, 1]], dtype=int32)"
            ]
          },
          "metadata": {},
          "execution_count": 35
        }
      ]
    },
    {
      "cell_type": "code",
      "source": [
        "arr5.astype('bool')"
      ],
      "metadata": {
        "colab": {
          "base_uri": "https://localhost:8080/"
        },
        "id": "yQHYWRYgkOz6",
        "outputId": "5f576e34-5948-4b20-df88-8d1102f7020f"
      },
      "execution_count": 36,
      "outputs": [
        {
          "output_type": "execute_result",
          "data": {
            "text/plain": [
              "array([[ True, False, False, False, False],\n",
              "       [False,  True, False, False, False],\n",
              "       [False, False,  True, False, False],\n",
              "       [False, False, False,  True, False],\n",
              "       [False, False, False, False,  True]])"
            ]
          },
          "metadata": {},
          "execution_count": 36
        }
      ]
    },
    {
      "cell_type": "markdown",
      "source": [
        "Create a numpy array with 50 zeros and\n",
        "Get the first five values"
      ],
      "metadata": {
        "id": "CE06zzEgkq8u"
      }
    },
    {
      "cell_type": "code",
      "source": [
        "arr6 = np.zeros(50, dtype='int32')\n",
        "arr6"
      ],
      "metadata": {
        "colab": {
          "base_uri": "https://localhost:8080/"
        },
        "id": "Kn7X50_FkrT_",
        "outputId": "9b2377d9-7130-436d-f50f-dd01e986fc78"
      },
      "execution_count": 40,
      "outputs": [
        {
          "output_type": "execute_result",
          "data": {
            "text/plain": [
              "array([0, 0, 0, 0, 0, 0, 0, 0, 0, 0, 0, 0, 0, 0, 0, 0, 0, 0, 0, 0, 0, 0,\n",
              "       0, 0, 0, 0, 0, 0, 0, 0, 0, 0, 0, 0, 0, 0, 0, 0, 0, 0, 0, 0, 0, 0,\n",
              "       0, 0, 0, 0, 0, 0], dtype=int32)"
            ]
          },
          "metadata": {},
          "execution_count": 40
        }
      ]
    },
    {
      "cell_type": "code",
      "source": [
        "arr6[0:5]"
      ],
      "metadata": {
        "colab": {
          "base_uri": "https://localhost:8080/"
        },
        "id": "N_Z6Ibo0kr-3",
        "outputId": "774e6276-4a51-401b-fd66-c110eb7ac76a"
      },
      "execution_count": 41,
      "outputs": [
        {
          "output_type": "execute_result",
          "data": {
            "text/plain": [
              "array([0, 0, 0, 0, 0], dtype=int32)"
            ]
          },
          "metadata": {},
          "execution_count": 41
        }
      ]
    },
    {
      "cell_type": "markdown",
      "source": [
        "Create a np array of 2 repeated 20 times and Get the last 3 values"
      ],
      "metadata": {
        "id": "AL_oBUoilVkJ"
      }
    },
    {
      "cell_type": "code",
      "source": [
        "arr7 = np.repeat(2,20)\n",
        "arr7"
      ],
      "metadata": {
        "colab": {
          "base_uri": "https://localhost:8080/"
        },
        "id": "nx4yJ-g3lT2u",
        "outputId": "b57772ca-fe72-4089-b68e-6c5b80cd81ce"
      },
      "execution_count": 42,
      "outputs": [
        {
          "output_type": "execute_result",
          "data": {
            "text/plain": [
              "array([2, 2, 2, 2, 2, 2, 2, 2, 2, 2, 2, 2, 2, 2, 2, 2, 2, 2, 2, 2])"
            ]
          },
          "metadata": {},
          "execution_count": 42
        }
      ]
    },
    {
      "cell_type": "code",
      "source": [
        "arr7[-3:]"
      ],
      "metadata": {
        "colab": {
          "base_uri": "https://localhost:8080/"
        },
        "id": "VVdaILMxlibq",
        "outputId": "32989be0-0a17-4666-f49b-33e10cbd6430"
      },
      "execution_count": 47,
      "outputs": [
        {
          "output_type": "execute_result",
          "data": {
            "text/plain": [
              "array([2, 2, 2])"
            ]
          },
          "metadata": {},
          "execution_count": 47
        }
      ]
    },
    {
      "cell_type": "markdown",
      "source": [
        "Create a numpy array from 0 to 2 $\\pi$ in steps of 0.1 and Get the 4th value to the 7th value"
      ],
      "metadata": {
        "id": "3X-Tqi8Il19f"
      }
    },
    {
      "cell_type": "code",
      "source": [
        "import math"
      ],
      "metadata": {
        "id": "kqwR3-dilmdi"
      },
      "execution_count": 48,
      "outputs": []
    },
    {
      "cell_type": "code",
      "source": [
        "arr8 = np.arange(0,2*(math.pi),0.1)\n",
        "arr8"
      ],
      "metadata": {
        "colab": {
          "base_uri": "https://localhost:8080/"
        },
        "id": "jaX3qyT8l6QB",
        "outputId": "d52f137e-3430-4b43-8f13-6d6159d1f545"
      },
      "execution_count": 52,
      "outputs": [
        {
          "output_type": "execute_result",
          "data": {
            "text/plain": [
              "array([0. , 0.1, 0.2, 0.3, 0.4, 0.5, 0.6, 0.7, 0.8, 0.9, 1. , 1.1, 1.2,\n",
              "       1.3, 1.4, 1.5, 1.6, 1.7, 1.8, 1.9, 2. , 2.1, 2.2, 2.3, 2.4, 2.5,\n",
              "       2.6, 2.7, 2.8, 2.9, 3. , 3.1, 3.2, 3.3, 3.4, 3.5, 3.6, 3.7, 3.8,\n",
              "       3.9, 4. , 4.1, 4.2, 4.3, 4.4, 4.5, 4.6, 4.7, 4.8, 4.9, 5. , 5.1,\n",
              "       5.2, 5.3, 5.4, 5.5, 5.6, 5.7, 5.8, 5.9, 6. , 6.1, 6.2])"
            ]
          },
          "metadata": {},
          "execution_count": 52
        }
      ]
    },
    {
      "cell_type": "code",
      "source": [
        "arr8[4:8]"
      ],
      "metadata": {
        "colab": {
          "base_uri": "https://localhost:8080/"
        },
        "id": "7jD9fJt3mQZ0",
        "outputId": "d6148c63-1c67-4709-be3b-b5bfac2c6e39"
      },
      "execution_count": 51,
      "outputs": [
        {
          "output_type": "execute_result",
          "data": {
            "text/plain": [
              "array([0.4, 0.5, 0.6, 0.7])"
            ]
          },
          "metadata": {},
          "execution_count": 51
        }
      ]
    },
    {
      "cell_type": "markdown",
      "source": [
        "Reverse it"
      ],
      "metadata": {
        "id": "BfLPKTQhoHyJ"
      }
    },
    {
      "cell_type": "code",
      "source": [
        "np.flip(arr8)"
      ],
      "metadata": {
        "id": "ZmEcTgr4nRac",
        "outputId": "e7d7136f-bc17-46d1-db16-f88cae66cd7f",
        "colab": {
          "base_uri": "https://localhost:8080/"
        }
      },
      "execution_count": 53,
      "outputs": [
        {
          "output_type": "execute_result",
          "data": {
            "text/plain": [
              "array([6.2, 6.1, 6. , 5.9, 5.8, 5.7, 5.6, 5.5, 5.4, 5.3, 5.2, 5.1, 5. ,\n",
              "       4.9, 4.8, 4.7, 4.6, 4.5, 4.4, 4.3, 4.2, 4.1, 4. , 3.9, 3.8, 3.7,\n",
              "       3.6, 3.5, 3.4, 3.3, 3.2, 3.1, 3. , 2.9, 2.8, 2.7, 2.6, 2.5, 2.4,\n",
              "       2.3, 2.2, 2.1, 2. , 1.9, 1.8, 1.7, 1.6, 1.5, 1.4, 1.3, 1.2, 1.1,\n",
              "       1. , 0.9, 0.8, 0.7, 0.6, 0.5, 0.4, 0.3, 0.2, 0.1, 0. ])"
            ]
          },
          "metadata": {},
          "execution_count": 53
        }
      ]
    },
    {
      "cell_type": "markdown",
      "source": [
        "Only keep every 4th element."
      ],
      "metadata": {
        "id": "vG_ZNbf1oPVM"
      }
    },
    {
      "cell_type": "code",
      "source": [
        "arr8[0::4]"
      ],
      "metadata": {
        "id": "PPWD2NbWoOOa",
        "outputId": "3767ba6a-780c-4d7f-86e1-c98306834fbf",
        "colab": {
          "base_uri": "https://localhost:8080/"
        }
      },
      "execution_count": 60,
      "outputs": [
        {
          "output_type": "execute_result",
          "data": {
            "text/plain": [
              "array([0. , 0.4, 0.8, 1.2, 1.6, 2. , 2.4, 2.8, 3.2, 3.6, 4. , 4.4, 4.8,\n",
              "       5.2, 5.6, 6. ])"
            ]
          },
          "metadata": {},
          "execution_count": 60
        }
      ]
    },
    {
      "cell_type": "markdown",
      "source": [
        "Get every 2nd element, starting from the last and moving backwards."
      ],
      "metadata": {
        "id": "Nqp9V3aWob79"
      }
    },
    {
      "cell_type": "code",
      "source": [
        "arr8[::-2]"
      ],
      "metadata": {
        "id": "Z5f2MZ9SoUGy",
        "outputId": "24a81ec7-8e33-469c-e472-bf83e373dd47",
        "colab": {
          "base_uri": "https://localhost:8080/"
        }
      },
      "execution_count": 61,
      "outputs": [
        {
          "output_type": "execute_result",
          "data": {
            "text/plain": [
              "array([6.2, 6. , 5.8, 5.6, 5.4, 5.2, 5. , 4.8, 4.6, 4.4, 4.2, 4. , 3.8,\n",
              "       3.6, 3.4, 3.2, 3. , 2.8, 2.6, 2.4, 2.2, 2. , 1.8, 1.6, 1.4, 1.2,\n",
              "       1. , 0.8, 0.6, 0.4, 0.2, 0. ])"
            ]
          },
          "metadata": {},
          "execution_count": 61
        }
      ]
    },
    {
      "cell_type": "markdown",
      "source": [
        "Compute min, max, sum, mean, median, variance, and standard deviation of the below array, all to to 2 decimal places."
      ],
      "metadata": {
        "id": "xI8mQJEhpDIw"
      }
    },
    {
      "cell_type": "code",
      "source": [
        "nums = np.arange(0, 4, 0.2555)\n",
        "nums"
      ],
      "metadata": {
        "id": "gU04HRq2ohum",
        "outputId": "cb6a5a0a-2fc9-423e-b732-ca0752419fe5",
        "colab": {
          "base_uri": "https://localhost:8080/"
        }
      },
      "execution_count": 62,
      "outputs": [
        {
          "output_type": "execute_result",
          "data": {
            "text/plain": [
              "array([0.    , 0.2555, 0.511 , 0.7665, 1.022 , 1.2775, 1.533 , 1.7885,\n",
              "       2.044 , 2.2995, 2.555 , 2.8105, 3.066 , 3.3215, 3.577 , 3.8325])"
            ]
          },
          "metadata": {},
          "execution_count": 62
        }
      ]
    },
    {
      "cell_type": "code",
      "source": [
        "print(\"min = \", np.min(nums).round(2))\n",
        "print(\"max = \", np.max(nums).round(2))\n",
        "print(\"sum = \", np.sum(nums).round(2))\n",
        "print(\"mean = \", np.mean(nums).round(2))\n",
        "print(\"median = \", np.median(nums).round(2))\n",
        "print(\"var = \", np.var(nums).round(2))\n",
        "print(\"std = \", np.std(nums).round(2))"
      ],
      "metadata": {
        "id": "w7LkVfxXpKSx",
        "outputId": "9f07f27c-6150-498d-e7ca-1a43828d2be2",
        "colab": {
          "base_uri": "https://localhost:8080/"
        }
      },
      "execution_count": 63,
      "outputs": [
        {
          "output_type": "stream",
          "name": "stdout",
          "text": [
            "min =  0.0\n",
            "max =  3.83\n",
            "sum =  30.66\n",
            "mean =  1.92\n",
            "median =  1.92\n",
            "var =  1.39\n",
            "std =  1.18\n"
          ]
        }
      ]
    },
    {
      "cell_type": "markdown",
      "source": [
        "Simulate a six-sided dice using numpy.random.choice(), generate a list of values you would obtain from 10 throws."
      ],
      "metadata": {
        "id": "XqglFMe4pOOy"
      }
    },
    {
      "cell_type": "code",
      "source": [
        "roll = np.random.choice(list(range(1,7)),10)\n",
        "roll"
      ],
      "metadata": {
        "id": "c4cwwqeSpMjA",
        "outputId": "bf5b9afa-bee6-4904-d7f2-7f940cf6e7e7",
        "colab": {
          "base_uri": "https://localhost:8080/"
        }
      },
      "execution_count": 75,
      "outputs": [
        {
          "output_type": "execute_result",
          "data": {
            "text/plain": [
              "array([1, 1, 2, 3, 6, 6, 4, 1, 2, 4])"
            ]
          },
          "metadata": {},
          "execution_count": 75
        }
      ]
    },
    {
      "cell_type": "markdown",
      "source": [
        "Simulate a two-sided coin toss that is NOT fair: it is twice as likely to have head than tails."
      ],
      "metadata": {
        "id": "K8NHO73eqN7l"
      }
    },
    {
      "cell_type": "code",
      "source": [
        "flip = np.random.choice([0,1,1],10)\n",
        "flip"
      ],
      "metadata": {
        "id": "oWoIbeEYpiBR",
        "outputId": "d9b05f75-696a-4df9-f528-58308f2334cc",
        "colab": {
          "base_uri": "https://localhost:8080/"
        }
      },
      "execution_count": 77,
      "outputs": [
        {
          "output_type": "execute_result",
          "data": {
            "text/plain": [
              "array([1, 1, 1, 1, 1, 0, 1, 1, 1, 1])"
            ]
          },
          "metadata": {},
          "execution_count": 77
        }
      ]
    }
  ]
}