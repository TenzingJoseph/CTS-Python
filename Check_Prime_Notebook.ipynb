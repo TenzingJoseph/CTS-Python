{
  "nbformat": 4,
  "nbformat_minor": 0,
  "metadata": {
    "colab": {
      "name": "Check Prime Notebook.ipynb",
      "provenance": [],
      "authorship_tag": "ABX9TyPpfSN3MDETuOHgfGEDHjI8",
      "include_colab_link": true
    },
    "kernelspec": {
      "name": "python3",
      "display_name": "Python 3"
    },
    "language_info": {
      "name": "python"
    }
  },
  "cells": [
    {
      "cell_type": "markdown",
      "metadata": {
        "id": "view-in-github",
        "colab_type": "text"
      },
      "source": [
        "<a href=\"https://colab.research.google.com/github/TenzingJoseph/CTS-Python/blob/main/Check_Prime_Notebook.ipynb\" target=\"_parent\"><img src=\"https://colab.research.google.com/assets/colab-badge.svg\" alt=\"Open In Colab\"/></a>"
      ]
    },
    {
      "cell_type": "code",
      "execution_count": 25,
      "metadata": {
        "id": "Q8nhkNYvyxvq"
      },
      "outputs": [],
      "source": [
        "def check_prime():\n",
        "  x = int(input('Enter a number :'))\n",
        "  if x > 1:\n",
        "      for i in range(2, x//2):\n",
        "        if x % i == 0:\n",
        "          print('It is not a prime number')\n",
        "          break\n",
        "      else:\n",
        "        print('It is a prime number')\n",
        "  else:\n",
        "    print('It is not a prime number')\n"
      ]
    },
    {
      "cell_type": "code",
      "source": [
        "check_prime()"
      ],
      "metadata": {
        "colab": {
          "base_uri": "https://localhost:8080/"
        },
        "id": "Y0GJEBUD1mVl",
        "outputId": "f207c61f-d996-4b32-9e19-e3f85374ff29"
      },
      "execution_count": 26,
      "outputs": [
        {
          "output_type": "stream",
          "name": "stdout",
          "text": [
            "Enter a number :13\n",
            "It is a prime number\n"
          ]
        }
      ]
    },
    {
      "cell_type": "code",
      "source": [
        ""
      ],
      "metadata": {
        "id": "Ip0QuLob1v1L"
      },
      "execution_count": null,
      "outputs": []
    }
  ]
}