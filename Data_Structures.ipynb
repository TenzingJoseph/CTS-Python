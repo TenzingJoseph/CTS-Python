{
  "nbformat": 4,
  "nbformat_minor": 0,
  "metadata": {
    "colab": {
      "name": "Data Structures.ipynb",
      "provenance": [],
      "collapsed_sections": [],
      "authorship_tag": "ABX9TyN9DT1BPdfcwvT09OcMtKGJ",
      "include_colab_link": true
    },
    "kernelspec": {
      "name": "python3",
      "display_name": "Python 3"
    },
    "language_info": {
      "name": "python"
    }
  },
  "cells": [
    {
      "cell_type": "markdown",
      "metadata": {
        "id": "view-in-github",
        "colab_type": "text"
      },
      "source": [
        "<a href=\"https://colab.research.google.com/github/TenzingJoseph/CTS-Python/blob/main/Data_Structures.ipynb\" target=\"_parent\"><img src=\"https://colab.research.google.com/assets/colab-badge.svg\" alt=\"Open In Colab\"/></a>"
      ]
    },
    {
      "cell_type": "markdown",
      "source": [
        "# **List methods**"
      ],
      "metadata": {
        "id": "-M942ibdmPwW"
      }
    },
    {
      "cell_type": "code",
      "source": [
        "dir(list)"
      ],
      "metadata": {
        "colab": {
          "base_uri": "https://localhost:8080/"
        },
        "id": "F8HlYrkyj5dO",
        "outputId": "423754b8-13fb-4ed8-f769-a5a39c78e277"
      },
      "execution_count": 5,
      "outputs": [
        {
          "output_type": "execute_result",
          "data": {
            "text/plain": [
              "['__add__',\n",
              " '__class__',\n",
              " '__contains__',\n",
              " '__delattr__',\n",
              " '__delitem__',\n",
              " '__dir__',\n",
              " '__doc__',\n",
              " '__eq__',\n",
              " '__format__',\n",
              " '__ge__',\n",
              " '__getattribute__',\n",
              " '__getitem__',\n",
              " '__gt__',\n",
              " '__hash__',\n",
              " '__iadd__',\n",
              " '__imul__',\n",
              " '__init__',\n",
              " '__init_subclass__',\n",
              " '__iter__',\n",
              " '__le__',\n",
              " '__len__',\n",
              " '__lt__',\n",
              " '__mul__',\n",
              " '__ne__',\n",
              " '__new__',\n",
              " '__reduce__',\n",
              " '__reduce_ex__',\n",
              " '__repr__',\n",
              " '__reversed__',\n",
              " '__rmul__',\n",
              " '__setattr__',\n",
              " '__setitem__',\n",
              " '__sizeof__',\n",
              " '__str__',\n",
              " '__subclasshook__',\n",
              " 'append',\n",
              " 'clear',\n",
              " 'copy',\n",
              " 'count',\n",
              " 'extend',\n",
              " 'index',\n",
              " 'insert',\n",
              " 'pop',\n",
              " 'remove',\n",
              " 'reverse',\n",
              " 'sort']"
            ]
          },
          "metadata": {},
          "execution_count": 5
        }
      ]
    },
    {
      "cell_type": "markdown",
      "source": [
        "#### **1) append( )**\n",
        "adds item/items at the end of the list"
      ],
      "metadata": {
        "id": "SClKL7ytm2vW"
      }
    },
    {
      "cell_type": "code",
      "source": [
        "mylist = [\"Apple\", \"apple\", 1, 20.5, True, \"apple\", 20.5]\n",
        "\n",
        "mylist.append(\"banana\")\n",
        "print(mylist)"
      ],
      "metadata": {
        "colab": {
          "base_uri": "https://localhost:8080/"
        },
        "id": "gVntn3Sqm02-",
        "outputId": "3402edef-6c46-458a-ce50-44251a2d2c82"
      },
      "execution_count": 13,
      "outputs": [
        {
          "output_type": "stream",
          "name": "stdout",
          "text": [
            "['Apple', 'apple', 1, 20.5, True, 'apple', 20.5, 'banana']\n"
          ]
        }
      ]
    },
    {
      "cell_type": "markdown",
      "source": [
        "#### **2) insert( )**\n",
        "inserts item at a specific index location."
      ],
      "metadata": {
        "id": "0KS6Xw8WneDe"
      }
    },
    {
      "cell_type": "code",
      "source": [
        "mylist.insert(6,\"cherry\")\n",
        "mylist"
      ],
      "metadata": {
        "colab": {
          "base_uri": "https://localhost:8080/"
        },
        "id": "Cy7T5zYgnS2t",
        "outputId": "479f5eec-8eb9-437f-b09a-0a3bc2543dae"
      },
      "execution_count": 14,
      "outputs": [
        {
          "output_type": "execute_result",
          "data": {
            "text/plain": [
              "['Apple', 'apple', 1, 20.5, True, 'apple', 'cherry', 20.5, 'banana']"
            ]
          },
          "metadata": {},
          "execution_count": 14
        }
      ]
    },
    {
      "cell_type": "markdown",
      "source": [
        "#### **3) remove( )**\n",
        "removes the first instance of the specified element in the list."
      ],
      "metadata": {
        "id": "oYcYsTnSnsgO"
      }
    },
    {
      "cell_type": "code",
      "source": [
        "mylist.remove('apple')\n",
        "mylist"
      ],
      "metadata": {
        "colab": {
          "base_uri": "https://localhost:8080/"
        },
        "id": "7FvVB3_mnniU",
        "outputId": "b75200a8-c3fe-4c60-b772-ae97258e4496"
      },
      "execution_count": 15,
      "outputs": [
        {
          "output_type": "execute_result",
          "data": {
            "text/plain": [
              "['Apple', 1, 20.5, True, 'apple', 'cherry', 20.5, 'banana']"
            ]
          },
          "metadata": {},
          "execution_count": 15
        }
      ]
    },
    {
      "cell_type": "markdown",
      "source": [
        "#### **4) pop( )**\n",
        "returns or slices the specified index (or) the last item if index is not specified and removes it from the list."
      ],
      "metadata": {
        "id": "rO1OUThxn6FG"
      }
    },
    {
      "cell_type": "code",
      "source": [
        "mylist.pop(3) # index is specified"
      ],
      "metadata": {
        "colab": {
          "base_uri": "https://localhost:8080/"
        },
        "id": "rtu-MLKPnzcG",
        "outputId": "e9cb7da7-9f13-4497-8ab8-c356d696a06d"
      },
      "execution_count": 16,
      "outputs": [
        {
          "output_type": "execute_result",
          "data": {
            "text/plain": [
              "True"
            ]
          },
          "metadata": {},
          "execution_count": 16
        }
      ]
    },
    {
      "cell_type": "code",
      "source": [
        "mylist.pop() # if index not specified, removes the last element"
      ],
      "metadata": {
        "colab": {
          "base_uri": "https://localhost:8080/",
          "height": 36
        },
        "id": "Bw4mwk87oNjc",
        "outputId": "b71d0ea2-bed8-4ba9-9379-7521e1f3ae1c"
      },
      "execution_count": 17,
      "outputs": [
        {
          "output_type": "execute_result",
          "data": {
            "text/plain": [
              "'banana'"
            ],
            "application/vnd.google.colaboratory.intrinsic+json": {
              "type": "string"
            }
          },
          "metadata": {},
          "execution_count": 17
        }
      ]
    },
    {
      "cell_type": "markdown",
      "source": [
        "#### **5) clear( )**\n",
        "empties the entire list / removes all the elements from the list."
      ],
      "metadata": {
        "id": "G_dxggzcooZm"
      }
    },
    {
      "cell_type": "code",
      "source": [
        "list1 = [[1,2,3,\"a\",True], 2 , (\"b\",55,9.3), 88.776, {1,2,3,4}, False, {\"brand\":\"Ford\",\"model\":\"Mustang\"}]\n",
        "list1"
      ],
      "metadata": {
        "colab": {
          "base_uri": "https://localhost:8080/"
        },
        "id": "429GJQZtogiu",
        "outputId": "1d95f80d-52f6-4aaa-bd49-10870f5d8118"
      },
      "execution_count": 18,
      "outputs": [
        {
          "output_type": "execute_result",
          "data": {
            "text/plain": [
              "[[1, 2, 3, 'a', True],\n",
              " 2,\n",
              " ('b', 55, 9.3),\n",
              " 88.776,\n",
              " {1, 2, 3, 4},\n",
              " False,\n",
              " {'brand': 'Ford', 'model': 'Mustang'}]"
            ]
          },
          "metadata": {},
          "execution_count": 18
        }
      ]
    },
    {
      "cell_type": "code",
      "source": [
        "list1.clear()\n",
        "list1"
      ],
      "metadata": {
        "colab": {
          "base_uri": "https://localhost:8080/"
        },
        "id": "rt3f9nMqpA4u",
        "outputId": "84b47e0a-2288-4fbd-94ef-53b79e50a995"
      },
      "execution_count": 19,
      "outputs": [
        {
          "output_type": "execute_result",
          "data": {
            "text/plain": [
              "[]"
            ]
          },
          "metadata": {},
          "execution_count": 19
        }
      ]
    },
    {
      "cell_type": "markdown",
      "source": [
        "#### **6) copy( )**\n",
        "copying the list / creating a duplicate list"
      ],
      "metadata": {
        "id": "eLN2BMQYpHiv"
      }
    },
    {
      "cell_type": "code",
      "source": [
        "list1 = [[1,2,3,\"a\",True], 2 , (\"b\",55,9.3), 88.776, {1,2,3,4}, False, {\"brand\":\"Ford\",\"model\":\"Mustang\"}]\n",
        "\n",
        "list2 = list1 ## This is not the correct way of copying, this is called referencing. "
      ],
      "metadata": {
        "id": "9vexpmfkpCN9"
      },
      "execution_count": 20,
      "outputs": []
    },
    {
      "cell_type": "code",
      "source": [
        "list2 = list1.copy()\n",
        "print(list2)"
      ],
      "metadata": {
        "colab": {
          "base_uri": "https://localhost:8080/"
        },
        "id": "Ilv5JH85ppMt",
        "outputId": "d8b56a55-1041-4e40-e4ff-d3e1110c0886"
      },
      "execution_count": 21,
      "outputs": [
        {
          "output_type": "stream",
          "name": "stdout",
          "text": [
            "[[1, 2, 3, 'a', True], 2, ('b', 55, 9.3), 88.776, {1, 2, 3, 4}, False, {'brand': 'Ford', 'model': 'Mustang'}]\n"
          ]
        }
      ]
    },
    {
      "cell_type": "markdown",
      "source": [
        "#### **7) extend( )**\n",
        "joining a list with another list."
      ],
      "metadata": {
        "id": "5bUwyRAAqTIW"
      }
    },
    {
      "cell_type": "code",
      "source": [
        "list2 = [1,2,3]\n",
        "list3 = [4,5,6]\n",
        "\n",
        "list2.extend(list3)\n",
        "list2"
      ],
      "metadata": {
        "colab": {
          "base_uri": "https://localhost:8080/"
        },
        "id": "JLoW-on5pz8G",
        "outputId": "7e85fd9c-84bf-45db-ae75-34cd212a5329"
      },
      "execution_count": 22,
      "outputs": [
        {
          "output_type": "execute_result",
          "data": {
            "text/plain": [
              "[1, 2, 3, 4, 5, 6]"
            ]
          },
          "metadata": {},
          "execution_count": 22
        }
      ]
    },
    {
      "cell_type": "markdown",
      "source": [
        "Alternative shortcut method (does not comes under list methods)"
      ],
      "metadata": {
        "id": "FHvZJRh7qlQV"
      }
    },
    {
      "cell_type": "code",
      "source": [
        "list4 = list2 + list3 \n",
        "list4"
      ],
      "metadata": {
        "colab": {
          "base_uri": "https://localhost:8080/"
        },
        "id": "kDdRO82vqf7N",
        "outputId": "33e42c4f-e77f-4d4b-b2bc-d7200360adb2"
      },
      "execution_count": 23,
      "outputs": [
        {
          "output_type": "execute_result",
          "data": {
            "text/plain": [
              "[1, 2, 3, 4, 5, 6, 4, 5, 6]"
            ]
          },
          "metadata": {},
          "execution_count": 23
        }
      ]
    },
    {
      "cell_type": "markdown",
      "source": [
        "#### **8) sort( )**"
      ],
      "metadata": {
        "id": "tw6CbVLQq5B4"
      }
    },
    {
      "cell_type": "code",
      "source": [
        "list5 = [100,10,56,56.0001]\n",
        "\n",
        "list5.sort()  # By default, the elements in the list are sorted in Ascending order\n",
        "list5"
      ],
      "metadata": {
        "colab": {
          "base_uri": "https://localhost:8080/"
        },
        "id": "idnDIJG1qt1M",
        "outputId": "afd5327b-f236-400a-cdba-d36fbf95cf94"
      },
      "execution_count": 24,
      "outputs": [
        {
          "output_type": "execute_result",
          "data": {
            "text/plain": [
              "[10, 56, 56.0001, 100]"
            ]
          },
          "metadata": {},
          "execution_count": 24
        }
      ]
    },
    {
      "cell_type": "code",
      "source": [
        "list5.sort(reverse = True) # To sort in descending order\n",
        "list5"
      ],
      "metadata": {
        "colab": {
          "base_uri": "https://localhost:8080/"
        },
        "id": "lKutioJnrINN",
        "outputId": "0357bd28-51b9-4ce0-fd22-9f145bc27144"
      },
      "execution_count": 25,
      "outputs": [
        {
          "output_type": "execute_result",
          "data": {
            "text/plain": [
              "[100, 56.0001, 56, 10]"
            ]
          },
          "metadata": {},
          "execution_count": 25
        }
      ]
    },
    {
      "cell_type": "markdown",
      "source": [
        "Sort also works for string elements but the list should contain only string elements. And this works based on case sensitivity.\n",
        "\n",
        "Note: Uppercase < Lowercase"
      ],
      "metadata": {
        "id": "ZSFOidTTrScd"
      }
    },
    {
      "cell_type": "code",
      "source": [
        "list5 = ['apple','Apple','apple','kiwi','Orange','Kiwi']\n",
        "\n",
        "list5.sort() \n",
        "list5 "
      ],
      "metadata": {
        "colab": {
          "base_uri": "https://localhost:8080/"
        },
        "id": "0k_WoqCnrPFV",
        "outputId": "3d8f1569-3ee0-46c6-ba86-0fac9f4dac9c"
      },
      "execution_count": 26,
      "outputs": [
        {
          "output_type": "execute_result",
          "data": {
            "text/plain": [
              "['Apple', 'Kiwi', 'Orange', 'apple', 'apple', 'kiwi']"
            ]
          },
          "metadata": {},
          "execution_count": 26
        }
      ]
    },
    {
      "cell_type": "markdown",
      "source": [
        "#### **9) index( )**\n",
        "Returns the index of first instance of the specified element"
      ],
      "metadata": {
        "id": "nk-OhcOlr6mt"
      }
    },
    {
      "cell_type": "code",
      "source": [
        "list5"
      ],
      "metadata": {
        "colab": {
          "base_uri": "https://localhost:8080/"
        },
        "id": "rTiu02apsHbW",
        "outputId": "5eb3a035-c373-4315-f821-1194458ab423"
      },
      "execution_count": 29,
      "outputs": [
        {
          "output_type": "execute_result",
          "data": {
            "text/plain": [
              "['Apple', 'Kiwi', 'Orange', 'apple', 'apple', 'kiwi']"
            ]
          },
          "metadata": {},
          "execution_count": 29
        }
      ]
    },
    {
      "cell_type": "code",
      "source": [
        "list5.index('apple')"
      ],
      "metadata": {
        "colab": {
          "base_uri": "https://localhost:8080/"
        },
        "id": "YCdFLeGgr26l",
        "outputId": "57a8d06d-490e-4401-f133-3e31942258c1"
      },
      "execution_count": 30,
      "outputs": [
        {
          "output_type": "execute_result",
          "data": {
            "text/plain": [
              "3"
            ]
          },
          "metadata": {},
          "execution_count": 30
        }
      ]
    },
    {
      "cell_type": "markdown",
      "source": [
        "#### **10) count( )**\n",
        "Returns the number of times a specified value occurs in a tuple"
      ],
      "metadata": {
        "id": "L-P2IOoHsYE-"
      }
    },
    {
      "cell_type": "code",
      "source": [
        "list5.count('apple')"
      ],
      "metadata": {
        "colab": {
          "base_uri": "https://localhost:8080/"
        },
        "id": "-7ijm4Zysocs",
        "outputId": "0a7e2db7-0593-47bd-f734-0e0dcf056100"
      },
      "execution_count": 31,
      "outputs": [
        {
          "output_type": "execute_result",
          "data": {
            "text/plain": [
              "2"
            ]
          },
          "metadata": {},
          "execution_count": 31
        }
      ]
    },
    {
      "cell_type": "markdown",
      "source": [
        "#### **11) reverse( )**\n",
        "reverses the position of the elements in the list."
      ],
      "metadata": {
        "id": "FJRSwc3HszuN"
      }
    },
    {
      "cell_type": "code",
      "source": [
        "list5"
      ],
      "metadata": {
        "colab": {
          "base_uri": "https://localhost:8080/"
        },
        "id": "R7ZzTVl7svSV",
        "outputId": "5202e761-2c0b-47cd-a2d0-4dfe633501e6"
      },
      "execution_count": 32,
      "outputs": [
        {
          "output_type": "execute_result",
          "data": {
            "text/plain": [
              "['Apple', 'Kiwi', 'Orange', 'apple', 'apple', 'kiwi']"
            ]
          },
          "metadata": {},
          "execution_count": 32
        }
      ]
    },
    {
      "cell_type": "code",
      "source": [
        "list5.reverse()\n",
        "list5"
      ],
      "metadata": {
        "colab": {
          "base_uri": "https://localhost:8080/"
        },
        "id": "mUKWPdM1tEhk",
        "outputId": "4b1b9c86-f4a8-4ac1-adbb-13bd90fa8772"
      },
      "execution_count": 34,
      "outputs": [
        {
          "output_type": "execute_result",
          "data": {
            "text/plain": [
              "['Apple', 'Kiwi', 'Orange', 'apple', 'apple', 'kiwi']"
            ]
          },
          "metadata": {},
          "execution_count": 34
        }
      ]
    },
    {
      "cell_type": "markdown",
      "source": [
        "#  "
      ],
      "metadata": {
        "id": "RIxTh2h7tOcF"
      }
    },
    {
      "cell_type": "markdown",
      "source": [
        "#  "
      ],
      "metadata": {
        "id": "P7rxzDUItOe4"
      }
    },
    {
      "cell_type": "markdown",
      "source": [
        "# **Tuple methods**"
      ],
      "metadata": {
        "id": "zLiikl5UtOhE"
      }
    },
    {
      "cell_type": "code",
      "source": [
        "dir(tuple)"
      ],
      "metadata": {
        "colab": {
          "base_uri": "https://localhost:8080/"
        },
        "id": "L6ApEQqatY8C",
        "outputId": "6f50431c-a378-463c-b361-99c88bcfd04f"
      },
      "execution_count": 35,
      "outputs": [
        {
          "output_type": "execute_result",
          "data": {
            "text/plain": [
              "['__add__',\n",
              " '__class__',\n",
              " '__contains__',\n",
              " '__delattr__',\n",
              " '__dir__',\n",
              " '__doc__',\n",
              " '__eq__',\n",
              " '__format__',\n",
              " '__ge__',\n",
              " '__getattribute__',\n",
              " '__getitem__',\n",
              " '__getnewargs__',\n",
              " '__gt__',\n",
              " '__hash__',\n",
              " '__init__',\n",
              " '__init_subclass__',\n",
              " '__iter__',\n",
              " '__le__',\n",
              " '__len__',\n",
              " '__lt__',\n",
              " '__mul__',\n",
              " '__ne__',\n",
              " '__new__',\n",
              " '__reduce__',\n",
              " '__reduce_ex__',\n",
              " '__repr__',\n",
              " '__rmul__',\n",
              " '__setattr__',\n",
              " '__sizeof__',\n",
              " '__str__',\n",
              " '__subclasshook__',\n",
              " 'count',\n",
              " 'index']"
            ]
          },
          "metadata": {},
          "execution_count": 35
        }
      ]
    },
    {
      "cell_type": "markdown",
      "source": [
        "#### 1)  Count( )\n",
        "Returns the number of times a specified value occurs in a tuple"
      ],
      "metadata": {
        "id": "FxjKK5v9tbwc"
      }
    },
    {
      "cell_type": "code",
      "source": [
        "tup1 = ([1,2,3,\"a\",True], 2 , (\"b\",55,9.3), 88.776, {1,2,3,4}, False, 2,{\"brand\":\"Ford\",\"model\":\"Mustang\"})\n",
        "tup1"
      ],
      "metadata": {
        "colab": {
          "base_uri": "https://localhost:8080/"
        },
        "id": "Ol_z9kIitaPs",
        "outputId": "b36d69a8-6f9d-433d-e26d-4e4701efb0dd"
      },
      "execution_count": 37,
      "outputs": [
        {
          "output_type": "execute_result",
          "data": {
            "text/plain": [
              "([1, 2, 3, 'a', True],\n",
              " 2,\n",
              " ('b', 55, 9.3),\n",
              " 88.776,\n",
              " {1, 2, 3, 4},\n",
              " False,\n",
              " 2,\n",
              " {'brand': 'Ford', 'model': 'Mustang'})"
            ]
          },
          "metadata": {},
          "execution_count": 37
        }
      ]
    },
    {
      "cell_type": "code",
      "source": [
        "tup1.count(2)"
      ],
      "metadata": {
        "colab": {
          "base_uri": "https://localhost:8080/"
        },
        "id": "aabkCPbWt43c",
        "outputId": "a1133216-8193-4327-9a8c-94704bcc6d8a"
      },
      "execution_count": 38,
      "outputs": [
        {
          "output_type": "execute_result",
          "data": {
            "text/plain": [
              "2"
            ]
          },
          "metadata": {},
          "execution_count": 38
        }
      ]
    },
    {
      "cell_type": "markdown",
      "source": [
        "#### 2) Index( )\n",
        "Returns the index of first instance of the specified element"
      ],
      "metadata": {
        "id": "oJuGyU7ZuIHF"
      }
    },
    {
      "cell_type": "code",
      "source": [
        "tup1.index(2)"
      ],
      "metadata": {
        "colab": {
          "base_uri": "https://localhost:8080/"
        },
        "id": "Prm3kr7huC-M",
        "outputId": "ed6a32f5-2174-4304-db7c-9df07df3888f"
      },
      "execution_count": 39,
      "outputs": [
        {
          "output_type": "execute_result",
          "data": {
            "text/plain": [
              "1"
            ]
          },
          "metadata": {},
          "execution_count": 39
        }
      ]
    },
    {
      "cell_type": "markdown",
      "source": [
        "#  "
      ],
      "metadata": {
        "id": "1FaU1fzpuVxF"
      }
    },
    {
      "cell_type": "markdown",
      "source": [
        "#  "
      ],
      "metadata": {
        "id": "q_hfF5aDuV9F"
      }
    },
    {
      "cell_type": "markdown",
      "source": [
        "# **Set methods**"
      ],
      "metadata": {
        "id": "fgrwrwoJuWGl"
      }
    },
    {
      "cell_type": "code",
      "source": [
        "dir(set)"
      ],
      "metadata": {
        "colab": {
          "base_uri": "https://localhost:8080/"
        },
        "id": "mrGa0677uTMs",
        "outputId": "47e82dda-a057-4b6a-ac90-01ba24928aab"
      },
      "execution_count": 40,
      "outputs": [
        {
          "output_type": "execute_result",
          "data": {
            "text/plain": [
              "['__and__',\n",
              " '__class__',\n",
              " '__contains__',\n",
              " '__delattr__',\n",
              " '__dir__',\n",
              " '__doc__',\n",
              " '__eq__',\n",
              " '__format__',\n",
              " '__ge__',\n",
              " '__getattribute__',\n",
              " '__gt__',\n",
              " '__hash__',\n",
              " '__iand__',\n",
              " '__init__',\n",
              " '__init_subclass__',\n",
              " '__ior__',\n",
              " '__isub__',\n",
              " '__iter__',\n",
              " '__ixor__',\n",
              " '__le__',\n",
              " '__len__',\n",
              " '__lt__',\n",
              " '__ne__',\n",
              " '__new__',\n",
              " '__or__',\n",
              " '__rand__',\n",
              " '__reduce__',\n",
              " '__reduce_ex__',\n",
              " '__repr__',\n",
              " '__ror__',\n",
              " '__rsub__',\n",
              " '__rxor__',\n",
              " '__setattr__',\n",
              " '__sizeof__',\n",
              " '__str__',\n",
              " '__sub__',\n",
              " '__subclasshook__',\n",
              " '__xor__',\n",
              " 'add',\n",
              " 'clear',\n",
              " 'copy',\n",
              " 'difference',\n",
              " 'difference_update',\n",
              " 'discard',\n",
              " 'intersection',\n",
              " 'intersection_update',\n",
              " 'isdisjoint',\n",
              " 'issubset',\n",
              " 'issuperset',\n",
              " 'pop',\n",
              " 'remove',\n",
              " 'symmetric_difference',\n",
              " 'symmetric_difference_update',\n",
              " 'union',\n",
              " 'update']"
            ]
          },
          "metadata": {},
          "execution_count": 40
        }
      ]
    },
    {
      "cell_type": "markdown",
      "source": [
        "#### 1) add( )\n",
        "adds item to a set"
      ],
      "metadata": {
        "id": "6dwH396jufFU"
      }
    },
    {
      "cell_type": "code",
      "source": [
        "set1 = {5, 10.5, \"apple\", True, False, 5, \"apple\"}\n",
        "set1"
      ],
      "metadata": {
        "colab": {
          "base_uri": "https://localhost:8080/"
        },
        "id": "CFB-nC8Qudl8",
        "outputId": "2451c1ed-cc56-483e-ccdd-9e15978f20ee"
      },
      "execution_count": 51,
      "outputs": [
        {
          "output_type": "execute_result",
          "data": {
            "text/plain": [
              "{10.5, 5, False, True, 'apple'}"
            ]
          },
          "metadata": {},
          "execution_count": 51
        }
      ]
    },
    {
      "cell_type": "code",
      "source": [
        "set1.add(\"orange\")\n",
        "set1"
      ],
      "metadata": {
        "colab": {
          "base_uri": "https://localhost:8080/"
        },
        "id": "hvANSv_auqfa",
        "outputId": "2b70df49-0cff-4cae-a589-ec4d27d09674"
      },
      "execution_count": 52,
      "outputs": [
        {
          "output_type": "execute_result",
          "data": {
            "text/plain": [
              "{10.5, 5, False, True, 'apple', 'orange'}"
            ]
          },
          "metadata": {},
          "execution_count": 52
        }
      ]
    },
    {
      "cell_type": "markdown",
      "source": [
        "#### **2) update( )**\n",
        "add multiple items to a set."
      ],
      "metadata": {
        "id": "XjWX_esLuzhG"
      }
    },
    {
      "cell_type": "code",
      "source": [
        "set1.update([\"cherry\", 1 , 6, 7])  ## we can use list, tuple, set.\n",
        "set1"
      ],
      "metadata": {
        "colab": {
          "base_uri": "https://localhost:8080/"
        },
        "id": "EzBd7hvEut7q",
        "outputId": "6ee72c54-b4df-46d4-dc88-28fb76ec3754"
      },
      "execution_count": 53,
      "outputs": [
        {
          "output_type": "execute_result",
          "data": {
            "text/plain": [
              "{10.5, 5, 6, 7, False, True, 'apple', 'cherry', 'orange'}"
            ]
          },
          "metadata": {},
          "execution_count": 53
        }
      ]
    },
    {
      "cell_type": "markdown",
      "source": [
        "#### **3) remove( )**\n",
        "removes specified item in a list"
      ],
      "metadata": {
        "id": "y-16SvHou_Ge"
      }
    },
    {
      "cell_type": "code",
      "source": [
        "set1.remove(\"cherry\")\n",
        "set1"
      ],
      "metadata": {
        "colab": {
          "base_uri": "https://localhost:8080/"
        },
        "id": "VGAuCsXiu4nb",
        "outputId": "50b9af9e-d733-4ef8-a2c0-a3661c774d6a"
      },
      "execution_count": 54,
      "outputs": [
        {
          "output_type": "execute_result",
          "data": {
            "text/plain": [
              "{10.5, 5, 6, 7, False, True, 'apple', 'orange'}"
            ]
          },
          "metadata": {},
          "execution_count": 54
        }
      ]
    },
    {
      "cell_type": "markdown",
      "source": [
        "#### **4) discard( )**\n",
        "same as remove but remove() method will raise an error if the specified item does not exist, and the discard() method will not"
      ],
      "metadata": {
        "id": "jlDZpNOkvFh_"
      }
    },
    {
      "cell_type": "code",
      "source": [
        "set1.discard('cherry')\n",
        "set1"
      ],
      "metadata": {
        "colab": {
          "base_uri": "https://localhost:8080/"
        },
        "id": "NSpCCAxwvETD",
        "outputId": "0ee1fd1c-d5ba-4376-ecfe-ac2a8cc30e83"
      },
      "execution_count": 55,
      "outputs": [
        {
          "output_type": "execute_result",
          "data": {
            "text/plain": [
              "{10.5, 5, 6, 7, False, True, 'apple', 'orange'}"
            ]
          },
          "metadata": {},
          "execution_count": 55
        }
      ]
    },
    {
      "cell_type": "markdown",
      "source": [
        "#### **5) pop( )**\n",
        "returns an element and removes that element from the set. Since sets are unordered, we do not know which item will get removed."
      ],
      "metadata": {
        "id": "KaFKV7CPvvnV"
      }
    },
    {
      "cell_type": "code",
      "source": [
        "set1.pop()"
      ],
      "metadata": {
        "colab": {
          "base_uri": "https://localhost:8080/"
        },
        "id": "1-qxdfXPvOSM",
        "outputId": "5b765876-dc27-4529-ee33-a98b08cdd771"
      },
      "execution_count": 56,
      "outputs": [
        {
          "output_type": "execute_result",
          "data": {
            "text/plain": [
              "False"
            ]
          },
          "metadata": {},
          "execution_count": 56
        }
      ]
    },
    {
      "cell_type": "markdown",
      "source": [
        "#### **6) clear( )**\n",
        "empties the set and gives a null set. "
      ],
      "metadata": {
        "id": "7B3OjPSBwOlt"
      }
    },
    {
      "cell_type": "code",
      "source": [
        "set1.clear()\n",
        "set1"
      ],
      "metadata": {
        "colab": {
          "base_uri": "https://localhost:8080/"
        },
        "id": "_jsvOyWywD2S",
        "outputId": "2d4aa8f4-6c37-4f0a-efe6-5975ea48e327"
      },
      "execution_count": 57,
      "outputs": [
        {
          "output_type": "execute_result",
          "data": {
            "text/plain": [
              "set()"
            ]
          },
          "metadata": {},
          "execution_count": 57
        }
      ]
    },
    {
      "cell_type": "markdown",
      "source": [
        "#### **7) Union( )**\n",
        "returns a new set with all items from both sets"
      ],
      "metadata": {
        "id": "FEdm96V8wjkM"
      }
    },
    {
      "cell_type": "code",
      "source": [
        "set1 = {5, 10.5, \"apple\", True, False, 5, \"apple\"}\n",
        "set2 = {1, 5, \"abc\", True, False}"
      ],
      "metadata": {
        "id": "pAY0wdu-wemj"
      },
      "execution_count": 58,
      "outputs": []
    },
    {
      "cell_type": "code",
      "source": [
        "set3 = set1.union(set2)\n",
        "set3"
      ],
      "metadata": {
        "colab": {
          "base_uri": "https://localhost:8080/"
        },
        "id": "5Bt235MuwomT",
        "outputId": "0eb597c8-0d7d-4a58-8866-98a5709b7b0b"
      },
      "execution_count": 59,
      "outputs": [
        {
          "output_type": "execute_result",
          "data": {
            "text/plain": [
              "{10.5, 5, False, True, 'abc', 'apple'}"
            ]
          },
          "metadata": {},
          "execution_count": 59
        }
      ]
    },
    {
      "cell_type": "markdown",
      "source": [
        "#### 8) intersection\n",
        "return a new set, that only contains the items that are present in both sets"
      ],
      "metadata": {
        "id": "qUtzB3xKwukO"
      }
    },
    {
      "cell_type": "code",
      "source": [
        "set4 = set1.intersection(set2)\n",
        "set4"
      ],
      "metadata": {
        "colab": {
          "base_uri": "https://localhost:8080/"
        },
        "id": "KYqxKBsnwqp7",
        "outputId": "0ed816e0-0fcc-43f6-cd8c-9e6be9339d9b"
      },
      "execution_count": 60,
      "outputs": [
        {
          "output_type": "execute_result",
          "data": {
            "text/plain": [
              "{False, 1, 5}"
            ]
          },
          "metadata": {},
          "execution_count": 60
        }
      ]
    },
    {
      "cell_type": "markdown",
      "source": [
        "#### **9) intersection_update**\n",
        "Removes the items in this set that are not present in other specified set"
      ],
      "metadata": {
        "id": "hTMYQ-4KxKUU"
      }
    },
    {
      "cell_type": "code",
      "source": [
        "set1.intersection_update(set2)\n",
        "set1"
      ],
      "metadata": {
        "colab": {
          "base_uri": "https://localhost:8080/"
        },
        "id": "3YHZsICpwznT",
        "outputId": "6a96e72f-673f-479a-ea93-d7eb3e13f6dc"
      },
      "execution_count": 61,
      "outputs": [
        {
          "output_type": "execute_result",
          "data": {
            "text/plain": [
              "{False, 1, 5}"
            ]
          },
          "metadata": {},
          "execution_count": 61
        }
      ]
    },
    {
      "cell_type": "markdown",
      "source": [
        "#### 10) symmetric_diference\n",
        "return a new set, that contains only the elements that are NOT present in both sets"
      ],
      "metadata": {
        "id": "JGyiZ0jyxfDs"
      }
    },
    {
      "cell_type": "code",
      "source": [
        "set1 = {5, 10.5, \"apple\", True, False, 5, \"apple\"}\n",
        "set2 = {1, 5, \"abc\", True, False}"
      ],
      "metadata": {
        "id": "FH3yUOVKxa3L"
      },
      "execution_count": 63,
      "outputs": []
    },
    {
      "cell_type": "code",
      "source": [
        "set5 = set1.symmetric_difference(set2)\n",
        "set5"
      ],
      "metadata": {
        "colab": {
          "base_uri": "https://localhost:8080/"
        },
        "id": "KGHZCiUQxiZi",
        "outputId": "a3af0c9e-ba56-4b6a-e554-fe41b96b66a3"
      },
      "execution_count": 64,
      "outputs": [
        {
          "output_type": "execute_result",
          "data": {
            "text/plain": [
              "{10.5, 'abc', 'apple'}"
            ]
          },
          "metadata": {},
          "execution_count": 64
        }
      ]
    },
    {
      "cell_type": "markdown",
      "source": [
        "#### **11) symmetric_difference_update**\n",
        "updates the original set by removing items that are present in both sets"
      ],
      "metadata": {
        "id": "ulduURGVx07t"
      }
    },
    {
      "cell_type": "code",
      "source": [
        "set1.symmetric_difference_update(set2)\n",
        "set1"
      ],
      "metadata": {
        "colab": {
          "base_uri": "https://localhost:8080/"
        },
        "id": "4cKnA-zpxrLk",
        "outputId": "e477e71d-8dad-4b97-a624-964064fff81c"
      },
      "execution_count": 65,
      "outputs": [
        {
          "output_type": "execute_result",
          "data": {
            "text/plain": [
              "{10.5, 'abc', 'apple'}"
            ]
          },
          "metadata": {},
          "execution_count": 65
        }
      ]
    },
    {
      "cell_type": "markdown",
      "source": [
        "#  "
      ],
      "metadata": {
        "id": "oa2NmGGuyJ_c"
      }
    },
    {
      "cell_type": "markdown",
      "source": [
        "#  "
      ],
      "metadata": {
        "id": "zbBO2TBKyKEb"
      }
    },
    {
      "cell_type": "markdown",
      "source": [
        "# **Dictionary methods**"
      ],
      "metadata": {
        "id": "WuWAsQ1wyKIT"
      }
    },
    {
      "cell_type": "code",
      "source": [
        "dir(dict)"
      ],
      "metadata": {
        "colab": {
          "base_uri": "https://localhost:8080/"
        },
        "id": "GfJwzUcJx-qb",
        "outputId": "f1dde098-ee19-486e-e12f-1d9f8bb1b014"
      },
      "execution_count": 83,
      "outputs": [
        {
          "output_type": "execute_result",
          "data": {
            "text/plain": [
              "['__class__',\n",
              " '__contains__',\n",
              " '__delattr__',\n",
              " '__delitem__',\n",
              " '__dir__',\n",
              " '__doc__',\n",
              " '__eq__',\n",
              " '__format__',\n",
              " '__ge__',\n",
              " '__getattribute__',\n",
              " '__getitem__',\n",
              " '__gt__',\n",
              " '__hash__',\n",
              " '__init__',\n",
              " '__init_subclass__',\n",
              " '__iter__',\n",
              " '__le__',\n",
              " '__len__',\n",
              " '__lt__',\n",
              " '__ne__',\n",
              " '__new__',\n",
              " '__reduce__',\n",
              " '__reduce_ex__',\n",
              " '__repr__',\n",
              " '__setattr__',\n",
              " '__setitem__',\n",
              " '__sizeof__',\n",
              " '__str__',\n",
              " '__subclasshook__',\n",
              " 'clear',\n",
              " 'copy',\n",
              " 'fromkeys',\n",
              " 'get',\n",
              " 'items',\n",
              " 'keys',\n",
              " 'pop',\n",
              " 'popitem',\n",
              " 'setdefault',\n",
              " 'update',\n",
              " 'values']"
            ]
          },
          "metadata": {},
          "execution_count": 83
        }
      ]
    },
    {
      "cell_type": "code",
      "source": [
        "dict1 = {\"Brand\" : \"Ford\", \"Model\" : \"Mustang\", \"Year\" : 1974, \"Auto-transmission\" : False, \"Engine-CC\" : 450.88, 4 : 'Yes', 4.25 : \"No\", True : \"suspension\"}\n",
        "dict1"
      ],
      "metadata": {
        "colab": {
          "base_uri": "https://localhost:8080/"
        },
        "id": "ZV8uVZ1PybR0",
        "outputId": "87a1210d-a37b-44a3-fc95-653463f642d6"
      },
      "execution_count": 84,
      "outputs": [
        {
          "output_type": "execute_result",
          "data": {
            "text/plain": [
              "{'Brand': 'Ford',\n",
              " 'Model': 'Mustang',\n",
              " 'Year': 1974,\n",
              " 'Auto-transmission': False,\n",
              " 'Engine-CC': 450.88,\n",
              " 4: 'Yes',\n",
              " 4.25: 'No',\n",
              " True: 'suspension'}"
            ]
          },
          "metadata": {},
          "execution_count": 84
        }
      ]
    },
    {
      "cell_type": "markdown",
      "source": [
        "#### **1) get( )**\n",
        "returns the value of the specified key"
      ],
      "metadata": {
        "id": "H0Mzh_h3ygfg"
      }
    },
    {
      "cell_type": "code",
      "source": [
        "dict1.get(4)"
      ],
      "metadata": {
        "colab": {
          "base_uri": "https://localhost:8080/",
          "height": 36
        },
        "id": "GjSKGNPdyfV8",
        "outputId": "e9bb29f2-d8d8-4564-ffe7-fa88c64fec84"
      },
      "execution_count": 85,
      "outputs": [
        {
          "output_type": "execute_result",
          "data": {
            "text/plain": [
              "'Yes'"
            ],
            "application/vnd.google.colaboratory.intrinsic+json": {
              "type": "string"
            }
          },
          "metadata": {},
          "execution_count": 85
        }
      ]
    },
    {
      "cell_type": "code",
      "source": [
        "dict1.get(True)"
      ],
      "metadata": {
        "colab": {
          "base_uri": "https://localhost:8080/",
          "height": 36
        },
        "id": "XhhELX8QyqpD",
        "outputId": "4a4f99b6-17f8-43df-8a3e-40706df58694"
      },
      "execution_count": 86,
      "outputs": [
        {
          "output_type": "execute_result",
          "data": {
            "text/plain": [
              "'suspension'"
            ],
            "application/vnd.google.colaboratory.intrinsic+json": {
              "type": "string"
            }
          },
          "metadata": {},
          "execution_count": 86
        }
      ]
    },
    {
      "cell_type": "markdown",
      "source": [
        "#### **2) keys( )**\n",
        "returns all the keys and only keys."
      ],
      "metadata": {
        "id": "u3zRMpBtyzx4"
      }
    },
    {
      "cell_type": "code",
      "source": [
        "dict1.keys()"
      ],
      "metadata": {
        "colab": {
          "base_uri": "https://localhost:8080/"
        },
        "id": "5njP21XkyyAD",
        "outputId": "6db9a8e0-1031-4c86-d918-9f8d920f8c37"
      },
      "execution_count": 87,
      "outputs": [
        {
          "output_type": "execute_result",
          "data": {
            "text/plain": [
              "dict_keys(['Brand', 'Model', 'Year', 'Auto-transmission', 'Engine-CC', 4, 4.25, True])"
            ]
          },
          "metadata": {},
          "execution_count": 87
        }
      ]
    },
    {
      "cell_type": "code",
      "source": [
        "type(dict1.keys())"
      ],
      "metadata": {
        "colab": {
          "base_uri": "https://localhost:8080/"
        },
        "id": "cZZpPwZezEKr",
        "outputId": "2c432881-962f-4f27-a4af-8842e9ab4f58"
      },
      "execution_count": 88,
      "outputs": [
        {
          "output_type": "execute_result",
          "data": {
            "text/plain": [
              "dict_keys"
            ]
          },
          "metadata": {},
          "execution_count": 88
        }
      ]
    },
    {
      "cell_type": "markdown",
      "source": [
        "#### **3) values( )** \n",
        "returns only the values of all the keys.\n"
      ],
      "metadata": {
        "id": "18NubShtzJgO"
      }
    },
    {
      "cell_type": "code",
      "source": [
        "dict1.values()"
      ],
      "metadata": {
        "colab": {
          "base_uri": "https://localhost:8080/"
        },
        "id": "gqol4ioKzIZ6",
        "outputId": "c4d57462-7686-4eeb-d40c-6fe24014be18"
      },
      "execution_count": 89,
      "outputs": [
        {
          "output_type": "execute_result",
          "data": {
            "text/plain": [
              "dict_values(['Ford', 'Mustang', 1974, False, 450.88, 'Yes', 'No', 'suspension'])"
            ]
          },
          "metadata": {},
          "execution_count": 89
        }
      ]
    },
    {
      "cell_type": "code",
      "source": [
        "type(dict1.values())"
      ],
      "metadata": {
        "colab": {
          "base_uri": "https://localhost:8080/"
        },
        "id": "70VgfVwkzQtj",
        "outputId": "7f7c78bb-3eb2-4144-848c-a5ecd4ecdf46"
      },
      "execution_count": 90,
      "outputs": [
        {
          "output_type": "execute_result",
          "data": {
            "text/plain": [
              "dict_values"
            ]
          },
          "metadata": {},
          "execution_count": 90
        }
      ]
    },
    {
      "cell_type": "markdown",
      "source": [
        "#### **4) items( )**\n",
        "returns both key and value in seperate tuple."
      ],
      "metadata": {
        "id": "OuLrA4jMzTtF"
      }
    },
    {
      "cell_type": "code",
      "source": [
        "dict1.items()"
      ],
      "metadata": {
        "colab": {
          "base_uri": "https://localhost:8080/"
        },
        "id": "tip8jvFMzSoz",
        "outputId": "61910edb-0ca3-46b3-b836-7c6ae8c477cf"
      },
      "execution_count": 91,
      "outputs": [
        {
          "output_type": "execute_result",
          "data": {
            "text/plain": [
              "dict_items([('Brand', 'Ford'), ('Model', 'Mustang'), ('Year', 1974), ('Auto-transmission', False), ('Engine-CC', 450.88), (4, 'Yes'), (4.25, 'No'), (True, 'suspension')])"
            ]
          },
          "metadata": {},
          "execution_count": 91
        }
      ]
    },
    {
      "cell_type": "code",
      "source": [
        "type(dict1.items())"
      ],
      "metadata": {
        "colab": {
          "base_uri": "https://localhost:8080/"
        },
        "id": "tFBL1GypzeSr",
        "outputId": "508e82f7-9dc8-485d-ddb0-cc2efcf9a43f"
      },
      "execution_count": 92,
      "outputs": [
        {
          "output_type": "execute_result",
          "data": {
            "text/plain": [
              "dict_items"
            ]
          },
          "metadata": {},
          "execution_count": 92
        }
      ]
    },
    {
      "cell_type": "markdown",
      "source": [
        "#### **5) pop( )**\n",
        "specified key value will be returned and removed from the dictionary."
      ],
      "metadata": {
        "id": "5VNOlD2MzhIH"
      }
    },
    {
      "cell_type": "code",
      "source": [
        "dict1.pop(\"Model\") ## Only keys should be specified."
      ],
      "metadata": {
        "colab": {
          "base_uri": "https://localhost:8080/",
          "height": 36
        },
        "id": "C4AQDwsfzgIj",
        "outputId": "e6f78773-0a74-4f45-b6bc-4dc9e5e25383"
      },
      "execution_count": 93,
      "outputs": [
        {
          "output_type": "execute_result",
          "data": {
            "text/plain": [
              "'Mustang'"
            ],
            "application/vnd.google.colaboratory.intrinsic+json": {
              "type": "string"
            }
          },
          "metadata": {},
          "execution_count": 93
        }
      ]
    },
    {
      "cell_type": "markdown",
      "source": [
        "#### **6) Clear( )**\n",
        "empties the dictionary"
      ],
      "metadata": {
        "id": "oQtNeOwUz9pX"
      }
    },
    {
      "cell_type": "code",
      "source": [
        "dict1.clear()\n",
        "dict1"
      ],
      "metadata": {
        "colab": {
          "base_uri": "https://localhost:8080/"
        },
        "id": "ucDjXO9Ez6z7",
        "outputId": "7dfa8bad-2684-4c3a-9baf-523a89b7e9ed"
      },
      "execution_count": 94,
      "outputs": [
        {
          "output_type": "execute_result",
          "data": {
            "text/plain": [
              "{}"
            ]
          },
          "metadata": {},
          "execution_count": 94
        }
      ]
    },
    {
      "cell_type": "markdown",
      "source": [
        "#### **7) copy( )**\n",
        "Creates a duplicate dictionary."
      ],
      "metadata": {
        "id": "BFR0kpm80FXW"
      }
    },
    {
      "cell_type": "code",
      "source": [
        "dict1 = {\"Brand\" : \"Ford\", \"Model\" : \"Mustang\", \"Year\" : 1974, \"Auto-transmission\" : False, \"Engine-CC\" : 450.88, 4 : 'Yes', 4.25 : \"No\", True : \"suspension\"}"
      ],
      "metadata": {
        "id": "Qqzp25BZ0CDq"
      },
      "execution_count": 95,
      "outputs": []
    },
    {
      "cell_type": "code",
      "source": [
        "dict2 = dict1.copy()\n",
        "dict2"
      ],
      "metadata": {
        "colab": {
          "base_uri": "https://localhost:8080/"
        },
        "id": "hlA_5DB80WMj",
        "outputId": "a175d935-8c81-4828-a328-ea66cb67d6ff"
      },
      "execution_count": 96,
      "outputs": [
        {
          "output_type": "execute_result",
          "data": {
            "text/plain": [
              "{'Brand': 'Ford',\n",
              " 'Model': 'Mustang',\n",
              " 'Year': 1974,\n",
              " 'Auto-transmission': False,\n",
              " 'Engine-CC': 450.88,\n",
              " 4: 'Yes',\n",
              " 4.25: 'No',\n",
              " True: 'suspension'}"
            ]
          },
          "metadata": {},
          "execution_count": 96
        }
      ]
    },
    {
      "cell_type": "markdown",
      "source": [
        "#### **8) update( )**\n",
        "changes the values of the specified key and also used to add new items"
      ],
      "metadata": {
        "id": "nPrH-Pd-0bad"
      }
    },
    {
      "cell_type": "code",
      "source": [
        "dict1.update({\"refurbished_Year\": 2020, \"Year\": 1984})\n",
        "dict1"
      ],
      "metadata": {
        "colab": {
          "base_uri": "https://localhost:8080/"
        },
        "id": "6C2x8t2M0Z9r",
        "outputId": "c76e2c52-99df-47e8-94ed-435af0b1d924"
      },
      "execution_count": 97,
      "outputs": [
        {
          "output_type": "execute_result",
          "data": {
            "text/plain": [
              "{'Brand': 'Ford',\n",
              " 'Model': 'Mustang',\n",
              " 'Year': 1984,\n",
              " 'Auto-transmission': False,\n",
              " 'Engine-CC': 450.88,\n",
              " 4: 'Yes',\n",
              " 4.25: 'No',\n",
              " True: 'suspension',\n",
              " 'refurbished_Year': 2020}"
            ]
          },
          "metadata": {},
          "execution_count": 97
        }
      ]
    }
  ]
}