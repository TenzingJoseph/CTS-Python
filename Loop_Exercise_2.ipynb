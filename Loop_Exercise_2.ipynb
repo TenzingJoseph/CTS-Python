{
  "nbformat": 4,
  "nbformat_minor": 0,
  "metadata": {
    "colab": {
      "provenance": [],
      "authorship_tag": "ABX9TyMCHI1RFb+srT6fcN116EIR",
      "include_colab_link": true
    },
    "kernelspec": {
      "name": "python3",
      "display_name": "Python 3"
    },
    "language_info": {
      "name": "python"
    }
  },
  "cells": [
    {
      "cell_type": "markdown",
      "metadata": {
        "id": "view-in-github",
        "colab_type": "text"
      },
      "source": [
        "<a href=\"https://colab.research.google.com/github/TenzingJoseph/CTS-Python/blob/main/Loop_Exercise_2.ipynb\" target=\"_parent\"><img src=\"https://colab.research.google.com/assets/colab-badge.svg\" alt=\"Open In Colab\"/></a>"
      ]
    },
    {
      "cell_type": "markdown",
      "source": [
        "## Exercise 3"
      ],
      "metadata": {
        "id": "qrMiRaRspr7p"
      }
    },
    {
      "cell_type": "code",
      "execution_count": 1,
      "metadata": {
        "colab": {
          "base_uri": "https://localhost:8080/"
        },
        "id": "EG3VM5rxolvC",
        "outputId": "04f7596d-c932-4263-9d30-a7dd8d243d74"
      },
      "outputs": [
        {
          "output_type": "stream",
          "name": "stdout",
          "text": [
            "Enter a number: 45\n",
            "Enter a number: 2\n",
            "Enter a number: 78\n",
            "Enter a number: 13\n",
            "Enter a number: 6\n",
            "The given data is sorted in Ascending Order : [2, 6, 13, 45, 78]\n",
            "The given data is sorted in Descending Order: [78, 45, 13, 6, 2]\n"
          ]
        }
      ],
      "source": [
        "num1 = []\n",
        "\n",
        "for i in range(0,5):\n",
        "  a = int(input(\"Enter a number: \"))\n",
        "  num1.append(a)\n",
        "\n",
        "for i in range(len(num1)):\n",
        "  for j in range(i+1, len(num1)):\n",
        "    if num1[i] > num1[j]:\n",
        "      num1[i],num1[j] = num1[j],num1[i]\n",
        "print('The given data is sorted in Ascending Order :',num1)\n",
        "\n",
        "num2 = num1.copy()\n",
        "\n",
        "for i in range(len(num2)):\n",
        "  for j in range(i+1, len(num2)):\n",
        "    if num2[i] < num2[j]:\n",
        "      num2[i],num2[j] = num2[j],num2[i]\n",
        "print('The given data is sorted in Descending Order:',num2)"
      ]
    },
    {
      "cell_type": "markdown",
      "source": [
        "## Exercise 4"
      ],
      "metadata": {
        "id": "A6sE9r8wpv25"
      }
    },
    {
      "cell_type": "code",
      "source": [
        "upp = 100\n",
        "low = 0\n",
        "\n",
        "print('The prime numbers between {} and {} are: '.format(low,upp), end=' ')\n",
        "for i in range(low, upp+1):\n",
        "  if i > 1:\n",
        "    for j in range(2, i):\n",
        "      if (i % j) == 0:\n",
        "        break\n",
        "    else:\n",
        "      print(i, end=\" \")"
      ],
      "metadata": {
        "colab": {
          "base_uri": "https://localhost:8080/"
        },
        "id": "TSqYD2WipKRg",
        "outputId": "2eadfdd4-7d83-43ed-8071-dd1a50a73b72"
      },
      "execution_count": 2,
      "outputs": [
        {
          "output_type": "stream",
          "name": "stdout",
          "text": [
            "The prime numbers between 0 and 100 are:  2 3 5 7 11 13 17 19 23 29 31 37 41 43 47 53 59 61 67 71 73 79 83 89 97 "
          ]
        }
      ]
    }
  ]
}