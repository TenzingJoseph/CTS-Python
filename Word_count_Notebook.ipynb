{
  "nbformat": 4,
  "nbformat_minor": 0,
  "metadata": {
    "colab": {
      "name": "Word count Notebook.ipynb",
      "provenance": [],
      "authorship_tag": "ABX9TyOyuY2KC1nAIxcEGBEkOsRp",
      "include_colab_link": true
    },
    "kernelspec": {
      "name": "python3",
      "display_name": "Python 3"
    },
    "language_info": {
      "name": "python"
    }
  },
  "cells": [
    {
      "cell_type": "markdown",
      "metadata": {
        "id": "view-in-github",
        "colab_type": "text"
      },
      "source": [
        "<a href=\"https://colab.research.google.com/github/TenzingJoseph/CTS-Python/blob/main/Word_count_Notebook.ipynb\" target=\"_parent\"><img src=\"https://colab.research.google.com/assets/colab-badge.svg\" alt=\"Open In Colab\"/></a>"
      ]
    },
    {
      "cell_type": "code",
      "execution_count": 31,
      "metadata": {
        "id": "sIdffmen9FAm"
      },
      "outputs": [],
      "source": [
        "def count_words():\n",
        "  x = input(\"Type the sentence: \")\n",
        "  punct = '''!()-[]{};:'\"\\,<>./?@#$%^&*_~'''\n",
        "  no_punct = \"\"\n",
        "  for i in x:\n",
        "    if i not in punct:\n",
        "      no_punct += i\n",
        "\n",
        "  y = no_punct.split()\n",
        "  count = dict()\n",
        "  for j in y:\n",
        "    if j in count:\n",
        "      count[j] += 1\n",
        "    else:\n",
        "      count[j] = 1\n",
        "  return count"
      ]
    },
    {
      "cell_type": "code",
      "source": [
        "count_words()"
      ],
      "metadata": {
        "colab": {
          "base_uri": "https://localhost:8080/"
        },
        "id": "aZY6nB_V9xQH",
        "outputId": "6476e44e-234f-46a6-c36f-83b5c7f1ff45"
      },
      "execution_count": 32,
      "outputs": [
        {
          "name": "stdout",
          "output_type": "stream",
          "text": [
            "Type the sentence: hello how are you? how are the potatoes?\n"
          ]
        },
        {
          "output_type": "execute_result",
          "data": {
            "text/plain": [
              "{'hello': 1, 'how': 2, 'are': 2, 'you': 1, 'the': 1, 'potatoes': 1}"
            ]
          },
          "metadata": {},
          "execution_count": 32
        }
      ]
    },
    {
      "cell_type": "code",
      "source": [
        ""
      ],
      "metadata": {
        "id": "Uk2-XheDCpBh"
      },
      "execution_count": null,
      "outputs": []
    }
  ]
}