{
  "nbformat": 4,
  "nbformat_minor": 0,
  "metadata": {
    "colab": {
      "name": "Remove Duplicates.ipynb",
      "provenance": [],
      "authorship_tag": "ABX9TyO9uOMW7PZWs8da/WyEV1zI",
      "include_colab_link": true
    },
    "kernelspec": {
      "name": "python3",
      "display_name": "Python 3"
    },
    "language_info": {
      "name": "python"
    }
  },
  "cells": [
    {
      "cell_type": "markdown",
      "metadata": {
        "id": "view-in-github",
        "colab_type": "text"
      },
      "source": [
        "<a href=\"https://colab.research.google.com/github/TenzingJoseph/CTS-Python/blob/main/Remove_Duplicates.ipynb\" target=\"_parent\"><img src=\"https://colab.research.google.com/assets/colab-badge.svg\" alt=\"Open In Colab\"/></a>"
      ]
    },
    {
      "cell_type": "code",
      "execution_count": 9,
      "metadata": {
        "id": "7kHnnbCcmxXG"
      },
      "outputs": [],
      "source": [
        "def no_duplicate():\n",
        "  list1 = [x for x in input(\"Enter the numbers separated by comma:\").split(',')]\n",
        "  list2 = set(list1)\n",
        "  print([int(i) for i in list2])"
      ]
    },
    {
      "cell_type": "code",
      "source": [
        "no_duplicate()"
      ],
      "metadata": {
        "colab": {
          "base_uri": "https://localhost:8080/"
        },
        "id": "45Q3vA_QoDbn",
        "outputId": "47f97c28-e781-4d16-b5b5-f62cd4a4572e"
      },
      "execution_count": 10,
      "outputs": [
        {
          "output_type": "stream",
          "name": "stdout",
          "text": [
            "Enter the numbers separated by comma:25,85,25,85\n",
            "[85, 25]\n"
          ]
        }
      ]
    },
    {
      "cell_type": "code",
      "source": [
        ""
      ],
      "metadata": {
        "id": "o4TfZiZAol1n"
      },
      "execution_count": null,
      "outputs": []
    }
  ]
}