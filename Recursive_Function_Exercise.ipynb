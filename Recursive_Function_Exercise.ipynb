{
  "nbformat": 4,
  "nbformat_minor": 0,
  "metadata": {
    "colab": {
      "provenance": [],
      "collapsed_sections": [],
      "authorship_tag": "ABX9TyMs60iuEsvlVGkI8qFcJMID",
      "include_colab_link": true
    },
    "kernelspec": {
      "name": "python3",
      "display_name": "Python 3"
    },
    "language_info": {
      "name": "python"
    }
  },
  "cells": [
    {
      "cell_type": "markdown",
      "metadata": {
        "id": "view-in-github",
        "colab_type": "text"
      },
      "source": [
        "<a href=\"https://colab.research.google.com/github/TenzingJoseph/CTS-Python/blob/main/Recursive_Function_Exercise.ipynb\" target=\"_parent\"><img src=\"https://colab.research.google.com/assets/colab-badge.svg\" alt=\"Open In Colab\"/></a>"
      ]
    },
    {
      "cell_type": "markdown",
      "source": [
        "## Exercise 1"
      ],
      "metadata": {
        "id": "F6UBj5E3se0M"
      }
    },
    {
      "cell_type": "markdown",
      "source": [
        "Write a Python function to calculate the factorial of a number (a non-negative integer). The function accepts the number as an argument."
      ],
      "metadata": {
        "id": "vh7CbrQjsczY"
      }
    },
    {
      "cell_type": "code",
      "execution_count": 45,
      "metadata": {
        "id": "lfx9Etp2sIy9"
      },
      "outputs": [],
      "source": [
        "def factorial(num):\n",
        "  if num == 0:\n",
        "    return 1\n",
        "  else:\n",
        "    return num * factorial(num-1)\n"
      ]
    },
    {
      "cell_type": "code",
      "source": [
        "factorial(6)"
      ],
      "metadata": {
        "colab": {
          "base_uri": "https://localhost:8080/"
        },
        "id": "0UVx-lD0tNgD",
        "outputId": "0db76ac8-2b0d-491f-ae1e-ab8ee3ce1b10"
      },
      "execution_count": 46,
      "outputs": [
        {
          "output_type": "execute_result",
          "data": {
            "text/plain": [
              "720"
            ]
          },
          "metadata": {},
          "execution_count": 46
        }
      ]
    },
    {
      "cell_type": "markdown",
      "source": [
        "## Exercise 2"
      ],
      "metadata": {
        "id": "WVWRKmSwyY7I"
      }
    },
    {
      "cell_type": "markdown",
      "source": [
        "Write a Python function to create and print a list where the values are square of numbers between 1 and 30 (both included)."
      ],
      "metadata": {
        "id": "kHPo2hXBygfe"
      }
    },
    {
      "cell_type": "code",
      "source": [
        "global x\n",
        "x = []\n",
        "\n",
        "def mysquare(low,upp):\n",
        "    a=low\n",
        "    b=upp\n",
        "    if a <= b:\n",
        "        c = low ** 2\n",
        "        x.append(c)\n",
        "        mysquare(a+1,b)\n",
        "        return x"
      ],
      "metadata": {
        "id": "PczD6qJ5tPGc"
      },
      "execution_count": 47,
      "outputs": []
    },
    {
      "cell_type": "code",
      "source": [
        "print(mysquare(1,30))"
      ],
      "metadata": {
        "colab": {
          "base_uri": "https://localhost:8080/"
        },
        "id": "Ba5WNk5qtPI2",
        "outputId": "a009b26d-d464-4e24-f969-b38192044e52"
      },
      "execution_count": 48,
      "outputs": [
        {
          "output_type": "stream",
          "name": "stdout",
          "text": [
            "[1, 4, 9, 16, 25, 36, 49, 64, 81, 100, 121, 144, 169, 196, 225, 256, 289, 324, 361, 400, 441, 484, 529, 576, 625, 676, 729, 784, 841, 900]\n"
          ]
        }
      ]
    },
    {
      "cell_type": "markdown",
      "source": [
        "### Aliter:"
      ],
      "metadata": {
        "id": "b37gM0LZtYxY"
      }
    },
    {
      "cell_type": "code",
      "source": [
        "global y\n",
        "y = []\n",
        "\n",
        "def mysquare2(start,upp):\n",
        "    a = start\n",
        "    c = start ** 2\n",
        "    if c <= upp:\n",
        "      y.append(c)\n",
        "      mysquare2(a+1,upp)\n",
        "      return y"
      ],
      "metadata": {
        "id": "r37tT-KItUyb"
      },
      "execution_count": 49,
      "outputs": []
    },
    {
      "cell_type": "code",
      "source": [
        "mysquare2(1,30)"
      ],
      "metadata": {
        "colab": {
          "base_uri": "https://localhost:8080/"
        },
        "id": "N4yxTM0MhaAM",
        "outputId": "ee33088c-a322-43e4-8823-05e2fe198a14"
      },
      "execution_count": 50,
      "outputs": [
        {
          "output_type": "execute_result",
          "data": {
            "text/plain": [
              "[1, 4, 9, 16, 25]"
            ]
          },
          "metadata": {},
          "execution_count": 50
        }
      ]
    },
    {
      "cell_type": "markdown",
      "source": [
        "### Aliter"
      ],
      "metadata": {
        "id": "BBps6Ously_h"
      }
    },
    {
      "cell_type": "code",
      "source": [
        "def mysquare3(low,upp):\n",
        "  a = []\n",
        "  for i in range(low,upp+1):\n",
        "    b = i**2\n",
        "    a.append(b)\n",
        "  print(a)\n"
      ],
      "metadata": {
        "id": "176u8ROWlNo9"
      },
      "execution_count": 51,
      "outputs": []
    },
    {
      "cell_type": "code",
      "source": [
        "mysquare3(1,30)"
      ],
      "metadata": {
        "colab": {
          "base_uri": "https://localhost:8080/"
        },
        "id": "F7aln35xmSq9",
        "outputId": "6d6a1f24-1bcd-4fe9-9636-846e8899cad1"
      },
      "execution_count": 52,
      "outputs": [
        {
          "output_type": "stream",
          "name": "stdout",
          "text": [
            "[1, 4, 9, 16, 25, 36, 49, 64, 81, 100, 121, 144, 169, 196, 225, 256, 289, 324, 361, 400, 441, 484, 529, 576, 625, 676, 729, 784, 841, 900]\n"
          ]
        }
      ]
    }
  ]
}