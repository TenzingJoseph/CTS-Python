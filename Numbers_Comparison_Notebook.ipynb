{
  "nbformat": 4,
  "nbformat_minor": 0,
  "metadata": {
    "colab": {
      "name": "Numbers Comparison Notebook.ipynb",
      "provenance": [],
      "collapsed_sections": [],
      "authorship_tag": "ABX9TyNsyCwp+FmyILxs9RCRMXvb",
      "include_colab_link": true
    },
    "kernelspec": {
      "name": "python3",
      "display_name": "Python 3"
    },
    "language_info": {
      "name": "python"
    }
  },
  "cells": [
    {
      "cell_type": "markdown",
      "metadata": {
        "id": "view-in-github",
        "colab_type": "text"
      },
      "source": [
        "<a href=\"https://colab.research.google.com/github/TenzingJoseph/CTS-Python/blob/main/Numbers_Comparison_Notebook.ipynb\" target=\"_parent\"><img src=\"https://colab.research.google.com/assets/colab-badge.svg\" alt=\"Open In Colab\"/></a>"
      ]
    },
    {
      "cell_type": "code",
      "execution_count": 5,
      "metadata": {
        "colab": {
          "base_uri": "https://localhost:8080/"
        },
        "id": "wenxRGdolmjF",
        "outputId": "287a983e-e23a-4420-c8bb-8e6c23cb71cf"
      },
      "outputs": [
        {
          "output_type": "stream",
          "name": "stdout",
          "text": [
            "Overwriting gnum_script.py\n"
          ]
        }
      ],
      "source": [
        "%%writefile gnum_script.py\n",
        "\n",
        "def find_greater():\n",
        "  x1 = input('Enter a number: ')\n",
        "  x2 = input('Enter another number: ')\n",
        "  if x1 > x2:\n",
        "    print('The larger number is '+x1)\n",
        "  else:\n",
        "    print('The larger number is '+x2)"
      ]
    },
    {
      "cell_type": "code",
      "source": [
        "%%writefile -a gnum_script.py\n",
        "\n",
        "find_greater()"
      ],
      "metadata": {
        "colab": {
          "base_uri": "https://localhost:8080/"
        },
        "id": "Yov9mfD_lrwc",
        "outputId": "81098c2e-ac87-4c49-e01f-09293ec6833c"
      },
      "execution_count": 6,
      "outputs": [
        {
          "output_type": "stream",
          "name": "stdout",
          "text": [
            "Appending to gnum_script.py\n"
          ]
        }
      ]
    },
    {
      "cell_type": "code",
      "source": [
        "%%writefile snum_script.py\n",
        "\n",
        "def find_smaller():\n",
        "  x1 = input('Enter a number: ')\n",
        "  x2 = input('Enter another number: ')\n",
        "  if x1 < x2:\n",
        "    print('The smaller number is '+x1)\n",
        "  else:\n",
        "    print('The smaller number is '+x2)"
      ],
      "metadata": {
        "colab": {
          "base_uri": "https://localhost:8080/"
        },
        "id": "FXRzShZlludf",
        "outputId": "23f4460c-97d4-45a9-b118-fca80863d8d1"
      },
      "execution_count": 7,
      "outputs": [
        {
          "output_type": "stream",
          "name": "stdout",
          "text": [
            "Overwriting snum_script.py\n"
          ]
        }
      ]
    },
    {
      "cell_type": "code",
      "source": [
        "%%writefile -a snum_script.py\n",
        "\n",
        "find_smaller()"
      ],
      "metadata": {
        "colab": {
          "base_uri": "https://localhost:8080/"
        },
        "id": "vPa9FH46lwzm",
        "outputId": "14611036-186b-4582-c87d-bd6856781d65"
      },
      "execution_count": 8,
      "outputs": [
        {
          "output_type": "stream",
          "name": "stdout",
          "text": [
            "Appending to snum_script.py\n"
          ]
        }
      ]
    },
    {
      "cell_type": "code",
      "source": [
        ""
      ],
      "metadata": {
        "id": "Pi9SFA-2lykH"
      },
      "execution_count": null,
      "outputs": []
    }
  ]
}