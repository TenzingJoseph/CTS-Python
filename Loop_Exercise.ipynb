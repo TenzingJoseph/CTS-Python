{
  "nbformat": 4,
  "nbformat_minor": 0,
  "metadata": {
    "colab": {
      "provenance": [],
      "authorship_tag": "ABX9TyPokjT/8N9edYt1b2CauojB",
      "include_colab_link": true
    },
    "kernelspec": {
      "name": "python3",
      "display_name": "Python 3"
    },
    "language_info": {
      "name": "python"
    }
  },
  "cells": [
    {
      "cell_type": "markdown",
      "metadata": {
        "id": "view-in-github",
        "colab_type": "text"
      },
      "source": [
        "<a href=\"https://colab.research.google.com/github/TenzingJoseph/CTS-Python/blob/main/Loop_Exercise.ipynb\" target=\"_parent\"><img src=\"https://colab.research.google.com/assets/colab-badge.svg\" alt=\"Open In Colab\"/></a>"
      ]
    },
    {
      "cell_type": "markdown",
      "source": [
        "## Exercise 1"
      ],
      "metadata": {
        "id": "ePp3I8KwmsO7"
      }
    },
    {
      "cell_type": "code",
      "source": [
        "tup1 = (1,2,3,4,5,6,7,8,9,10)\n",
        "\n",
        "mean1 = sum(tup1)/len(tup1)\n",
        "\n",
        "sum1 = 0\n",
        "sum2 = 0\n",
        "for i in tup1:\n",
        "  sum1 += i\n",
        "  if sum1 <= mean1:\n",
        "    sum2 += i \n",
        "print('The given tuple is: ',tup1)\n",
        "print('The mean of the given tuple is ',mean1)\n",
        "print('The sum is', sum2)"
      ],
      "metadata": {
        "colab": {
          "base_uri": "https://localhost:8080/"
        },
        "id": "qRUZQctumplk",
        "outputId": "32dec2eb-27c8-4c0a-f4ed-5b3285e3ab9b"
      },
      "execution_count": 15,
      "outputs": [
        {
          "output_type": "stream",
          "name": "stdout",
          "text": [
            "The given tuple is:  (1, 2, 3, 4, 5, 6, 7, 8, 9, 10)\n",
            "The mean of the given tuple is  5.5\n",
            "The sum is 3\n"
          ]
        }
      ]
    },
    {
      "cell_type": "code",
      "source": [
        "tup1 = (1,2,3,4,5,6,7,8,9,10)\n",
        "\n",
        "i = 0\n",
        "sum = 0\n",
        "\n",
        "while i < len(tup1):\n",
        "  sum += tup1[i]\n",
        "  i += 1\n",
        "\n",
        "mean = sum/i\n",
        "\n",
        "sum1, sum2 = 0, 0\n",
        "for i in tup1:\n",
        "  sum1 += i\n",
        "  if sum1 <= mean:\n",
        "    sum2 += i \n",
        "print('The given tuple is: ',tup1)\n",
        "print('The mean of the given tuple is ',mean)\n",
        "print('The sum is', sum2)"
      ],
      "metadata": {
        "colab": {
          "base_uri": "https://localhost:8080/"
        },
        "id": "f8EKopKvJKLb",
        "outputId": "5434682a-1368-45d8-fff0-3c596398448b"
      },
      "execution_count": 6,
      "outputs": [
        {
          "output_type": "stream",
          "name": "stdout",
          "text": [
            "The given tuple is:  (1, 2, 3, 4, 5, 6, 7, 8, 9, 10)\n",
            "The mean of the given tuple is  5.5\n",
            "The sum is 3\n"
          ]
        }
      ]
    },
    {
      "cell_type": "markdown",
      "source": [
        "## Exercise 2"
      ],
      "metadata": {
        "id": "W4LQqSgMmx_5"
      }
    },
    {
      "cell_type": "code",
      "source": [
        "marks = [] \n",
        "\n",
        "for i in range(0,10):\n",
        "  a = int(input(\"Enter the mark: \"))\n",
        "  marks.append(a)\n",
        "\n",
        "sum1 = sum(marks)\n",
        "bin = []\n",
        "while sum1:\n",
        "  b = sum1 % 2\n",
        "  bin.append(b)\n",
        "  sum1 = sum1 // 2\n",
        "\n",
        "num = ''\n",
        "for j in bin:\n",
        "  num += str(j)\n",
        "\n",
        "print('The given marks are: ', marks)\n",
        "print('The total of the given marks is ', sum(marks))\n",
        "print('The binary value of the total mark is', num)"
      ],
      "metadata": {
        "colab": {
          "base_uri": "https://localhost:8080/"
        },
        "id": "XlPljarphUb7",
        "outputId": "a580163c-28b9-4400-f778-b75c95a335eb"
      },
      "execution_count": 16,
      "outputs": [
        {
          "output_type": "stream",
          "name": "stdout",
          "text": [
            "Enter the mark: 78\n",
            "Enter the mark: 87\n",
            "Enter the mark: 99\n",
            "Enter the mark: 100\n",
            "Enter the mark: 56\n",
            "Enter the mark: 67\n",
            "Enter the mark: 72\n",
            "Enter the mark: 79\n",
            "Enter the mark: 88\n",
            "Enter the mark: 90\n",
            "The given marks are:  [78, 87, 99, 100, 56, 67, 72, 79, 88, 90]\n",
            "The total of the given marks is  816\n",
            "The binary value of the total mark is 0000110011\n"
          ]
        }
      ]
    },
    {
      "cell_type": "markdown",
      "source": [
        "## Exercise 3"
      ],
      "metadata": {
        "id": "grfnYxSem267"
      }
    },
    {
      "cell_type": "code",
      "source": [
        "num1 = []\n",
        "\n",
        "for i in range(0,5):\n",
        "  a = int(input(\"Enter a number: \"))\n",
        "  num1.append(a)\n",
        "\n",
        "for i in range(len(num1)):\n",
        "  for j in range(i+1, len(num1)):\n",
        "    if num1[i] > num1[j]:\n",
        "      num1[i],num1[j] = num1[j],num1[i]\n",
        "print('The given data is sorted in Ascending Order :',num1)\n",
        "\n",
        "num2 = num1.copy()\n",
        "\n",
        "for i in range(len(num2)):\n",
        "  for j in range(i+1, len(num2)):\n",
        "    if num2[i] < num2[j]:\n",
        "      num2[i],num2[j] = num2[j],num2[i]\n",
        "print('The given data is sorted in Descending Order:',num2)"
      ],
      "metadata": {
        "colab": {
          "base_uri": "https://localhost:8080/"
        },
        "id": "D6yfJTMrVKtO",
        "outputId": "4bffa75c-597b-42fb-cb37-e429d8a0710e"
      },
      "execution_count": 33,
      "outputs": [
        {
          "output_type": "stream",
          "name": "stdout",
          "text": [
            "Enter a number: 45\n",
            "Enter a number: 2\n",
            "Enter a number: 78\n",
            "Enter a number: 13\n",
            "Enter a number: 36\n",
            "The given data is sorted in Ascending Order : [2, 13, 36, 45, 78]\n",
            "The given data is sorted in Descending Order: [78, 45, 36, 13, 2]\n"
          ]
        }
      ]
    },
    {
      "cell_type": "markdown",
      "source": [
        "## Exercise 4"
      ],
      "metadata": {
        "id": "wjTxXyTTmMcs"
      }
    },
    {
      "cell_type": "code",
      "source": [
        "upp = 100\n",
        "low = 0\n",
        "\n",
        "print('The prime numbers between {} and {} are: '.format(low,upp), end=' ')\n",
        "for i in range(low, upp+1):\n",
        "  if i > 1:\n",
        "    for j in range(2, i):\n",
        "      if (i % j) == 0:\n",
        "        break\n",
        "    else:\n",
        "      print(i, end=\" \")"
      ],
      "metadata": {
        "colab": {
          "base_uri": "https://localhost:8080/"
        },
        "id": "IWMWr23-kZbG",
        "outputId": "0c6b0328-c6f0-4a6c-83ed-d50a6fc502c0"
      },
      "execution_count": 36,
      "outputs": [
        {
          "output_type": "stream",
          "name": "stdout",
          "text": [
            "The prime numbers between 0 and 100 are:  2 3 5 7 11 13 17 19 23 29 31 37 41 43 47 53 59 61 67 71 73 79 83 89 97 "
          ]
        }
      ]
    }
  ]
}