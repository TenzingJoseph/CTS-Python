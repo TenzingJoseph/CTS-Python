{
  "nbformat": 4,
  "nbformat_minor": 0,
  "metadata": {
    "colab": {
      "provenance": [],
      "authorship_tag": "ABX9TyPujntNJGZhgB4ZZcctw2et",
      "include_colab_link": true
    },
    "kernelspec": {
      "name": "python3",
      "display_name": "Python 3"
    },
    "language_info": {
      "name": "python"
    }
  },
  "cells": [
    {
      "cell_type": "markdown",
      "metadata": {
        "id": "view-in-github",
        "colab_type": "text"
      },
      "source": [
        "<a href=\"https://colab.research.google.com/github/TenzingJoseph/CTS-Python/blob/main/Loop_Exercise_1.ipynb\" target=\"_parent\"><img src=\"https://colab.research.google.com/assets/colab-badge.svg\" alt=\"Open In Colab\"/></a>"
      ]
    },
    {
      "cell_type": "markdown",
      "source": [
        "## Exercise 1"
      ],
      "metadata": {
        "id": "ePp3I8KwmsO7"
      }
    },
    {
      "cell_type": "code",
      "source": [
        "tup1 = (1,2,3,4,5,6,7,8,9,10)\n",
        "\n",
        "mean1 = sum(tup1)/len(tup1)\n",
        "\n",
        "sum1 = 0\n",
        "sum2 = 0\n",
        "for i in tup1:\n",
        "  sum1 += i\n",
        "  if sum1 <= mean1:\n",
        "    sum2 += i \n",
        "print('The given tuple is: ',tup1)\n",
        "print('The mean of the given tuple is ',mean1)\n",
        "print('The sum is', sum2)"
      ],
      "metadata": {
        "colab": {
          "base_uri": "https://localhost:8080/"
        },
        "id": "qRUZQctumplk",
        "outputId": "32dec2eb-27c8-4c0a-f4ed-5b3285e3ab9b"
      },
      "execution_count": null,
      "outputs": [
        {
          "output_type": "stream",
          "name": "stdout",
          "text": [
            "The given tuple is:  (1, 2, 3, 4, 5, 6, 7, 8, 9, 10)\n",
            "The mean of the given tuple is  5.5\n",
            "The sum is 3\n"
          ]
        }
      ]
    },
    {
      "cell_type": "code",
      "source": [
        "tup1 = (1,2,3,4,5,6,7,8,9,10)\n",
        "\n",
        "i = 0\n",
        "sum = 0\n",
        "\n",
        "while i < len(tup1):\n",
        "  sum += tup1[i]\n",
        "  i += 1\n",
        "\n",
        "mean = sum/i\n",
        "\n",
        "sum1, sum2 = 0, 0\n",
        "for i in tup1:\n",
        "  sum1 += i\n",
        "  if sum1 <= mean:\n",
        "    sum2 += i \n",
        "print('The given tuple is: ',tup1)\n",
        "print('The mean of the given tuple is ',mean)\n",
        "print('The sum is', sum2)"
      ],
      "metadata": {
        "colab": {
          "base_uri": "https://localhost:8080/"
        },
        "id": "f8EKopKvJKLb",
        "outputId": "5434682a-1368-45d8-fff0-3c596398448b"
      },
      "execution_count": null,
      "outputs": [
        {
          "output_type": "stream",
          "name": "stdout",
          "text": [
            "The given tuple is:  (1, 2, 3, 4, 5, 6, 7, 8, 9, 10)\n",
            "The mean of the given tuple is  5.5\n",
            "The sum is 3\n"
          ]
        }
      ]
    },
    {
      "cell_type": "markdown",
      "source": [
        "## Exercise 2"
      ],
      "metadata": {
        "id": "W4LQqSgMmx_5"
      }
    },
    {
      "cell_type": "code",
      "source": [
        "marks = [] \n",
        "\n",
        "for i in range(0,10):\n",
        "  a = int(input(\"Enter the mark: \"))\n",
        "  marks.append(a)\n",
        "\n",
        "sum1 = sum(marks)\n",
        "bin = []\n",
        "while sum1:\n",
        "  b = sum1 % 2\n",
        "  bin.append(b)\n",
        "  sum1 = sum1 // 2\n",
        "\n",
        "num = ''\n",
        "for j in bin:\n",
        "  num += str(j)\n",
        "\n",
        "print('The given marks are: ', marks)\n",
        "print('The total of the given marks is ', sum(marks))\n",
        "print('The binary value of the total mark is', num)"
      ],
      "metadata": {
        "colab": {
          "base_uri": "https://localhost:8080/"
        },
        "id": "XlPljarphUb7",
        "outputId": "a580163c-28b9-4400-f778-b75c95a335eb"
      },
      "execution_count": null,
      "outputs": [
        {
          "output_type": "stream",
          "name": "stdout",
          "text": [
            "Enter the mark: 78\n",
            "Enter the mark: 87\n",
            "Enter the mark: 99\n",
            "Enter the mark: 100\n",
            "Enter the mark: 56\n",
            "Enter the mark: 67\n",
            "Enter the mark: 72\n",
            "Enter the mark: 79\n",
            "Enter the mark: 88\n",
            "Enter the mark: 90\n",
            "The given marks are:  [78, 87, 99, 100, 56, 67, 72, 79, 88, 90]\n",
            "The total of the given marks is  816\n",
            "The binary value of the total mark is 0000110011\n"
          ]
        }
      ]
    }
  ]
}