{
  "nbformat": 4,
  "nbformat_minor": 0,
  "metadata": {
    "colab": {
      "name": "Prime Numbers in range.ipynb",
      "provenance": [],
      "authorship_tag": "ABX9TyOL4AojmgQiu66Gc5MRflcc",
      "include_colab_link": true
    },
    "kernelspec": {
      "name": "python3",
      "display_name": "Python 3"
    },
    "language_info": {
      "name": "python"
    }
  },
  "cells": [
    {
      "cell_type": "markdown",
      "metadata": {
        "id": "view-in-github",
        "colab_type": "text"
      },
      "source": [
        "<a href=\"https://colab.research.google.com/github/TenzingJoseph/CTS-Python/blob/main/Prime_Numbers_in_range.ipynb\" target=\"_parent\"><img src=\"https://colab.research.google.com/assets/colab-badge.svg\" alt=\"Open In Colab\"/></a>"
      ]
    },
    {
      "cell_type": "code",
      "execution_count": 50,
      "metadata": {
        "id": "dpylp1SMDWJr",
        "colab": {
          "base_uri": "https://localhost:8080/"
        },
        "outputId": "c046a1e6-d787-4a66-c432-28993c81554e"
      },
      "outputs": [
        {
          "output_type": "stream",
          "name": "stdout",
          "text": [
            "Writing Between_prime1.py\n"
          ]
        }
      ],
      "source": [
        "%%writefile Between_prime1.py\n",
        "\n",
        "def between_prime():\n",
        "  x = int(input('Enter a number :'))\n",
        "  print('The prime numbers between the range are: ', end=' ')\n",
        "  for i in range(0,x+1):\n",
        "    if i > 1:\n",
        "      for j in range(2, i):\n",
        "        if (i % j) == 0:\n",
        "          break\n",
        "      else:\n",
        "        print(i, end=\" \")"
      ]
    },
    {
      "cell_type": "code",
      "source": [
        "%%writefile -a Between_prime1.py\n",
        "\n",
        "between_prime()"
      ],
      "metadata": {
        "colab": {
          "base_uri": "https://localhost:8080/"
        },
        "id": "4WSQVJH_Ecfj",
        "outputId": "31221d01-c7f3-41e6-fcc4-fa23b884bc15"
      },
      "execution_count": 51,
      "outputs": [
        {
          "output_type": "stream",
          "name": "stdout",
          "text": [
            "Appending to Between_prime1.py\n"
          ]
        }
      ]
    },
    {
      "cell_type": "code",
      "source": [
        "%%writefile Between_prime2.py\n",
        "\n",
        "def between_prime1():\n",
        "  x = int(input('Enter the lower range :'))\n",
        "  y = int(input('Enter the upper range :'))\n",
        "  print('The prime numbers between the range are: ', end=' ')\n",
        "  for i in range(x,y+1):\n",
        "    if i > 1:\n",
        "      for j in range(2, i):\n",
        "        if (i % j) == 0:\n",
        "          break\n",
        "      else:\n",
        "        print(i, end=\" \")"
      ],
      "metadata": {
        "id": "Gz0Ijh85EfYP",
        "colab": {
          "base_uri": "https://localhost:8080/"
        },
        "outputId": "37144302-06d7-43b4-ed9b-fbbac456210c"
      },
      "execution_count": 52,
      "outputs": [
        {
          "output_type": "stream",
          "name": "stdout",
          "text": [
            "Writing Between_prime2.py\n"
          ]
        }
      ]
    },
    {
      "cell_type": "code",
      "source": [
        "%%writefile -a Between_prime2.py\n",
        "\n",
        "between_prime1()"
      ],
      "metadata": {
        "id": "qZlBwQ2sEjpA",
        "colab": {
          "base_uri": "https://localhost:8080/"
        },
        "outputId": "dd4c3f1c-4ee8-49d1-dc8d-f6991dc54b7c"
      },
      "execution_count": 53,
      "outputs": [
        {
          "output_type": "stream",
          "name": "stdout",
          "text": [
            "Appending to Between_prime2.py\n"
          ]
        }
      ]
    },
    {
      "cell_type": "code",
      "source": [
        ""
      ],
      "metadata": {
        "id": "AT7CiUrmM-qb"
      },
      "execution_count": null,
      "outputs": []
    }
  ]
}