{
  "nbformat": 4,
  "nbformat_minor": 0,
  "metadata": {
    "colab": {
      "name": "Prime Numbers in range.ipynb",
      "provenance": [],
      "authorship_tag": "ABX9TyPwcwozgDF3DwNJy7UJtnAr",
      "include_colab_link": true
    },
    "kernelspec": {
      "name": "python3",
      "display_name": "Python 3"
    },
    "language_info": {
      "name": "python"
    }
  },
  "cells": [
    {
      "cell_type": "markdown",
      "metadata": {
        "id": "view-in-github",
        "colab_type": "text"
      },
      "source": [
        "<a href=\"https://colab.research.google.com/github/TenzingJoseph/CTS-Python/blob/main/Prime_Numbers_in_range.ipynb\" target=\"_parent\"><img src=\"https://colab.research.google.com/assets/colab-badge.svg\" alt=\"Open In Colab\"/></a>"
      ]
    },
    {
      "cell_type": "code",
      "source": [
        "%%writefile Between_Prime1.py\n",
        "\n",
        "def between_prime(upp,low=0):\n",
        "  print('The prime numbers between {} and {} are: '.format(low,upp), end=' ')\n",
        "  for i in range(low, upp+1):\n",
        "    if i > 1:\n",
        "      for j in range(2, i):\n",
        "        if (i % j) == 0:\n",
        "          break\n",
        "      else:\n",
        "        print(i, end=\" \")"
      ],
      "metadata": {
        "colab": {
          "base_uri": "https://localhost:8080/"
        },
        "id": "IJyNyMZpP4Tk",
        "outputId": "896108b3-25cc-4582-af3a-6b566c193119"
      },
      "execution_count": 1,
      "outputs": [
        {
          "output_type": "stream",
          "name": "stdout",
          "text": [
            "Writing Between_Prime1.py\n"
          ]
        }
      ]
    },
    {
      "cell_type": "code",
      "source": [
        "%%writefile -a Between_Prime1.py\n",
        "\n",
        "between_prime(25)"
      ],
      "metadata": {
        "colab": {
          "base_uri": "https://localhost:8080/"
        },
        "id": "Q-ZkLSATRlgz",
        "outputId": "21f20157-ee19-4424-8138-05b82472fa50"
      },
      "execution_count": 2,
      "outputs": [
        {
          "output_type": "stream",
          "name": "stdout",
          "text": [
            "Appending to Between_Prime1.py\n"
          ]
        }
      ]
    },
    {
      "cell_type": "code",
      "source": [
        "%%writefile Between_Prime2.py\n",
        "\n",
        "def between_prime(upp,low=0):\n",
        "  print('The prime numbers between {} and {} are: '.format(low,upp), end=' ')\n",
        "  for i in range(low, upp+1):\n",
        "    if i > 1:\n",
        "      for j in range(2, i):\n",
        "        if (i % j) == 0:\n",
        "          break\n",
        "      else:\n",
        "        print(i, end=\" \")"
      ],
      "metadata": {
        "colab": {
          "base_uri": "https://localhost:8080/"
        },
        "id": "5rxheM29Tt4l",
        "outputId": "e7df4c0d-4acf-4feb-e338-d3f9f000cd02"
      },
      "execution_count": 3,
      "outputs": [
        {
          "output_type": "stream",
          "name": "stdout",
          "text": [
            "Writing Between_Prime2.py\n"
          ]
        }
      ]
    },
    {
      "cell_type": "code",
      "source": [
        "%%writefile -a Between_Prime2.py\n",
        "\n",
        "between_prime(low=12,upp=25)"
      ],
      "metadata": {
        "colab": {
          "base_uri": "https://localhost:8080/"
        },
        "id": "BGnBtIasTQvj",
        "outputId": "2860deec-5387-4811-ea11-73c0d323ab3b"
      },
      "execution_count": 4,
      "outputs": [
        {
          "output_type": "stream",
          "name": "stdout",
          "text": [
            "Appending to Between_Prime2.py\n"
          ]
        }
      ]
    },
    {
      "cell_type": "code",
      "source": [
        ""
      ],
      "metadata": {
        "id": "jKe3jwI6TboT"
      },
      "execution_count": null,
      "outputs": []
    }
  ]
}